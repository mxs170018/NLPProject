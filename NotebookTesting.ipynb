{
 "cells": [
  {
   "cell_type": "code",
   "execution_count": 0,
   "metadata": {
    "application/vnd.databricks.v1+cell": {
     "cellMetadata": {
      "byteLimit": 2048000,
      "rowLimit": 10000
     },
     "inputWidgets": {},
     "nuid": "a714ff4c-863f-4cc9-bccd-a1e7e5ecc4fa",
     "showTitle": false,
     "tableResultSettingsMap": {},
     "title": ""
    }
   },
   "outputs": [
    {
     "output_type": "stream",
     "name": "stdout",
     "output_type": "stream",
     "text": [
      "Python interpreter will be restarted.\nRequirement already satisfied: python-igraph in /local_disk0/.ephemeral_nfs/envs/pythonEnv-a33eb8d5-8754-4928-86d2-4374b518a283/lib/python3.9/site-packages (0.11.8)\nRequirement already satisfied: igraph==0.11.8 in /local_disk0/.ephemeral_nfs/envs/pythonEnv-a33eb8d5-8754-4928-86d2-4374b518a283/lib/python3.9/site-packages (from python-igraph) (0.11.8)\nRequirement already satisfied: texttable>=1.6.2 in /local_disk0/.ephemeral_nfs/envs/pythonEnv-a33eb8d5-8754-4928-86d2-4374b518a283/lib/python3.9/site-packages (from igraph==0.11.8->python-igraph) (1.7.0)\nPython interpreter will be restarted.\n"
     ]
    }
   ],
   "source": [
    "pip install python-igraph"
   ]
  },
  {
   "cell_type": "code",
   "execution_count": 0,
   "metadata": {
    "application/vnd.databricks.v1+cell": {
     "cellMetadata": {
      "byteLimit": 2048000,
      "rowLimit": 10000
     },
     "inputWidgets": {},
     "nuid": "90a93eb4-8e98-471b-8c6b-a757209f6683",
     "showTitle": false,
     "tableResultSettingsMap": {},
     "title": ""
    }
   },
   "outputs": [
    {
     "output_type": "stream",
     "name": "stdout",
     "output_type": "stream",
     "text": [
      "Python interpreter will be restarted.\nRequirement already satisfied: graphframes in /local_disk0/.ephemeral_nfs/envs/pythonEnv-a33eb8d5-8754-4928-86d2-4374b518a283/lib/python3.9/site-packages (0.6)\nRequirement already satisfied: nose in /local_disk0/.ephemeral_nfs/envs/pythonEnv-a33eb8d5-8754-4928-86d2-4374b518a283/lib/python3.9/site-packages (from graphframes) (1.3.7)\nRequirement already satisfied: numpy in /databricks/python3/lib/python3.9/site-packages (from graphframes) (1.21.5)\nPython interpreter will be restarted.\n"
     ]
    }
   ],
   "source": [
    "pip install graphframes"
   ]
  },
  {
   "cell_type": "code",
   "execution_count": 0,
   "metadata": {
    "application/vnd.databricks.v1+cell": {
     "cellMetadata": {
      "byteLimit": 2048000,
      "rowLimit": 10000
     },
     "inputWidgets": {},
     "nuid": "9f4cb82a-8b89-4e3f-991d-e6f2a2436f9c",
     "showTitle": false,
     "tableResultSettingsMap": {},
     "title": ""
    }
   },
   "outputs": [],
   "source": [
    "\n",
    "from graphframes import GraphFrame\n",
    "rdd = sc.textFile(\"dbfs:/FileStore/Slashdot0902.txt\") \n",
    "allLines = rdd.collect()\n",
    "allLines = allLines[4:]"
   ]
  },
  {
   "cell_type": "code",
   "execution_count": 0,
   "metadata": {
    "application/vnd.databricks.v1+cell": {
     "cellMetadata": {
      "byteLimit": 2048000,
      "rowLimit": 10000
     },
     "inputWidgets": {},
     "nuid": "2d06101c-4b1f-4d90-87cd-fac8b5fbcd56",
     "showTitle": false,
     "tableResultSettingsMap": {},
     "title": ""
    }
   },
   "outputs": [],
   "source": [
    "\n",
    "vertices = []\n",
    "edges = []\n",
    "\n",
    "for line in allLines:\n",
    "  aLine = line.split(\"\\t\")\n",
    "  # vertices.append(int(aLine[0]))\n",
    "  edges.append((int(aLine[0]),int(aLine[1])))\n",
    "#vert = list(set(vertices))"
   ]
  },
  {
   "cell_type": "code",
   "execution_count": 0,
   "metadata": {
    "application/vnd.databricks.v1+cell": {
     "cellMetadata": {
      "byteLimit": 2048000,
      "rowLimit": 10000
     },
     "inputWidgets": {},
     "nuid": "b629550f-c3a8-4cd0-b427-4e5e04044b94",
     "showTitle": false,
     "tableResultSettingsMap": {},
     "title": ""
    }
   },
   "outputs": [],
   "source": [
    "#verti = [(x,x) for x in vert]"
   ]
  },
  {
   "cell_type": "code",
   "execution_count": 0,
   "metadata": {
    "application/vnd.databricks.v1+cell": {
     "cellMetadata": {
      "byteLimit": 2048000,
      "rowLimit": 10000
     },
     "collapsed": true,
     "inputWidgets": {},
     "nuid": "227220a8-0059-4b2e-a167-956080321356",
     "showTitle": false,
     "tableResultSettingsMap": {},
     "title": ""
    }
   },
   "outputs": [
    {
     "output_type": "stream",
     "name": "stdout",
     "output_type": "stream",
     "text": [
      "Out[25]: [(0, 'beatrice'),\n (1, 'beatrice'),\n (2, 'beatrice'),\n (3, 'beatrice'),\n (4, 'beatrice'),\n (5, 'beatrice'),\n (6, 'beatrice'),\n (7, 'beatrice'),\n (8, 'beatrice'),\n (9, 'beatrice'),\n (10, 'beatrice'),\n (11, 'beatrice'),\n (12, 'beatrice'),\n (13, 'beatrice'),\n (14, 'beatrice'),\n (15, 'beatrice'),\n (16, 'beatrice'),\n (17, 'beatrice'),\n (18, 'beatrice'),\n (19, 'beatrice'),\n (20, 'beatrice'),\n (21, 'beatrice'),\n (22, 'beatrice'),\n (23, 'beatrice'),\n (24, 'beatrice'),\n (25, 'beatrice'),\n (26, 'beatrice'),\n (27, 'beatrice'),\n (28, 'beatrice'),\n (29, 'beatrice'),\n (30, 'beatrice'),\n (31, 'beatrice'),\n (32, 'beatrice'),\n (33, 'beatrice'),\n (34, 'beatrice'),\n (35, 'beatrice'),\n (36, 'beatrice'),\n (37, 'beatrice'),\n (38, 'beatrice'),\n (39, 'beatrice'),\n (40, 'beatrice'),\n (41, 'beatrice'),\n (42, 'beatrice'),\n (43, 'beatrice'),\n (44, 'beatrice'),\n (45, 'beatrice'),\n (46, 'beatrice'),\n (47, 'beatrice'),\n (48, 'beatrice'),\n (49, 'beatrice'),\n (50, 'beatrice'),\n (51, 'beatrice'),\n (52, 'beatrice'),\n (53, 'beatrice'),\n (54, 'beatrice'),\n (55, 'beatrice'),\n (56, 'beatrice'),\n (57, 'beatrice'),\n (58, 'beatrice'),\n (59, 'beatrice'),\n (60, 'beatrice'),\n (61, 'beatrice'),\n (62, 'beatrice'),\n (63, 'beatrice'),\n (64, 'beatrice'),\n (65, 'beatrice'),\n (66, 'beatrice'),\n (67, 'beatrice'),\n (68, 'beatrice'),\n (69, 'beatrice'),\n (70, 'beatrice'),\n (71, 'beatrice'),\n (72, 'beatrice'),\n (73, 'beatrice'),\n (74, 'beatrice'),\n (75, 'beatrice'),\n (76, 'beatrice'),\n (77, 'beatrice'),\n (78, 'beatrice'),\n (79, 'beatrice'),\n (80, 'beatrice'),\n (81, 'beatrice'),\n (82, 'beatrice'),\n (83, 'beatrice'),\n (84, 'beatrice'),\n (85, 'beatrice'),\n (86, 'beatrice'),\n (87, 'beatrice'),\n (88, 'beatrice'),\n (89, 'beatrice'),\n (90, 'beatrice'),\n (91, 'beatrice'),\n (92, 'beatrice'),\n (93, 'beatrice'),\n (94, 'beatrice'),\n (95, 'beatrice'),\n (96, 'beatrice'),\n (97, 'beatrice'),\n (98, 'beatrice'),\n (99, 'beatrice'),\n (100, 'beatrice'),\n (101, 'beatrice'),\n (102, 'beatrice'),\n (103, 'beatrice'),\n (104, 'beatrice'),\n (105, 'beatrice'),\n (106, 'beatrice'),\n (107, 'beatrice'),\n (108, 'beatrice'),\n (109, 'beatrice'),\n (110, 'beatrice'),\n (111, 'beatrice'),\n (112, 'beatrice'),\n (113, 'beatrice'),\n (114, 'beatrice'),\n (115, 'beatrice'),\n (116, 'beatrice'),\n (117, 'beatrice'),\n (118, 'beatrice'),\n (119, 'beatrice'),\n (120, 'beatrice'),\n (121, 'beatrice'),\n (122, 'beatrice'),\n (123, 'beatrice'),\n (124, 'beatrice'),\n (125, 'beatrice'),\n (126, 'beatrice'),\n (127, 'beatrice'),\n (128, 'beatrice'),\n (129, 'beatrice'),\n (130, 'beatrice'),\n (131, 'beatrice'),\n (132, 'beatrice'),\n (133, 'beatrice'),\n (134, 'beatrice'),\n (135, 'beatrice'),\n (136, 'beatrice'),\n (137, 'beatrice'),\n (138, 'beatrice'),\n (139, 'beatrice'),\n (140, 'beatrice'),\n (141, 'beatrice'),\n (142, 'beatrice'),\n (143, 'beatrice'),\n (144, 'beatrice'),\n (145, 'beatrice'),\n (146, 'beatrice'),\n (147, 'beatrice'),\n (148, 'beatrice'),\n (149, 'beatrice'),\n (150, 'beatrice'),\n (151, 'beatrice'),\n (152, 'beatrice'),\n (153, 'beatrice'),\n (154, 'beatrice'),\n (155, 'beatrice'),\n (156, 'beatrice'),\n (157, 'beatrice'),\n (158, 'beatrice'),\n (159, 'beatrice'),\n (160, 'beatrice'),\n (161, 'beatrice'),\n (162, 'beatrice'),\n (163, 'beatrice'),\n (164, 'beatrice'),\n (165, 'beatrice'),\n (166, 'beatrice'),\n (167, 'beatrice'),\n (168, 'beatrice'),\n (169, 'beatrice'),\n (170, 'beatrice'),\n (171, 'beatrice'),\n (172, 'beatrice'),\n (173, 'beatrice'),\n (174, 'beatrice'),\n (175, 'beatrice'),\n (176, 'beatrice'),\n (177, 'beatrice'),\n (178, 'beatrice'),\n (179, 'beatrice'),\n (180, 'beatrice'),\n (181, 'beatrice'),\n (182, 'beatrice'),\n (183, 'beatrice'),\n (184, 'beatrice'),\n (185, 'beatrice'),\n (186, 'beatrice'),\n (187, 'beatrice'),\n (188, 'beatrice'),\n (189, 'beatrice'),\n (190, 'beatrice'),\n (191, 'beatrice'),\n (192, 'beatrice'),\n (193, 'beatrice'),\n (194, 'beatrice'),\n (195, 'beatrice'),\n (196, 'beatrice'),\n (197, 'beatrice'),\n (198, 'beatrice'),\n (199, 'beatrice'),\n (200, 'beatrice'),\n (201, 'beatrice'),\n (202, 'beatrice'),\n (203, 'beatrice'),\n (204, 'beatrice'),\n (205, 'beatrice'),\n (206, 'beatrice'),\n (207, 'beatrice'),\n (208, 'beatrice'),\n (209, 'beatrice'),\n (210, 'beatrice'),\n (211, 'beatrice'),\n (212, 'beatrice'),\n (213, 'beatrice'),\n (214, 'beatrice'),\n (215, 'beatrice'),\n (216, 'beatrice'),\n (217, 'beatrice'),\n (218, 'beatrice'),\n (219, 'beatrice'),\n (220, 'beatrice'),\n (221, 'beatrice'),\n (222, 'beatrice'),\n (223, 'beatrice'),\n (224, 'beatrice'),\n (225, 'beatrice'),\n (226, 'beatrice'),\n (227, 'beatrice'),\n (228, 'beatrice'),\n (229, 'beatrice'),\n (230, 'beatrice'),\n (231, 'beatrice'),\n (232, 'beatrice'),\n (233, 'beatrice'),\n (234, 'beatrice'),\n (235, 'beatrice'),\n (236, 'beatrice'),\n (237, 'beatrice'),\n (238, 'beatrice'),\n (239, 'beatrice'),\n (240, 'beatrice'),\n (241, 'beatrice'),\n (242, 'beatrice'),\n (243, 'beatrice'),\n (244, 'beatrice'),\n (245, 'beatrice'),\n (246, 'beatrice'),\n (247, 'beatrice'),\n (248, 'beatrice'),\n (249, 'beatrice'),\n (250, 'beatrice'),\n (251, 'beatrice'),\n (252, 'beatrice'),\n (253, 'beatrice'),\n (254, 'beatrice'),\n (255, 'beatrice'),\n (256, 'beatrice'),\n (257, 'beatrice'),\n (258, 'beatrice'),\n (259, 'beatrice'),\n (260, 'beatrice'),\n (261, 'beatrice'),\n (262, 'beatrice'),\n (263, 'beatrice'),\n (264, 'beatrice'),\n (265, 'beatrice'),\n (266, 'beatrice'),\n (267, 'beatrice'),\n (268, 'beatrice'),\n (269, 'beatrice'),\n (270, 'beatrice'),\n (271, 'beatrice'),\n (272, 'beatrice'),\n (273, 'beatrice'),\n (274, 'beatrice'),\n (275, 'beatrice'),\n (276, 'beatrice'),\n (277, 'beatrice'),\n (278, 'beatrice'),\n (279, 'beatrice'),\n (280, 'beatrice'),\n (281, 'beatrice'),\n (282, 'beatrice'),\n (283, 'beatrice'),\n (284, 'beatrice'),\n (285, 'beatrice'),\n (286, 'beatrice'),\n (287, 'beatrice'),\n (288, 'beatrice'),\n (289, 'beatrice'),\n (290, 'beatrice'),\n (291, 'beatrice'),\n (292, 'beatrice'),\n (293, 'beatrice'),\n (294, 'beatrice'),\n (295, 'beatrice'),\n (296, 'beatrice'),\n (297, 'beatrice'),\n (298, 'beatrice'),\n (299, 'beatrice'),\n (300, 'beatrice'),\n (301, 'beatrice'),\n (302, 'beatrice'),\n (303, 'beatrice'),\n (304, 'beatrice'),\n (305, 'beatrice'),\n (306, 'beatrice'),\n (307, 'beatrice'),\n (308, 'beatrice'),\n (309, 'beatrice'),\n (310, 'beatrice'),\n (311, 'beatrice'),\n (312, 'beatrice'),\n (313, 'beatrice'),\n (314, 'beatrice'),\n (315, 'beatrice'),\n (316, 'beatrice'),\n (317, 'beatrice'),\n (318, 'beatrice'),\n (319, 'beatrice'),\n (320, 'beatrice'),\n (321, 'beatrice'),\n (322, 'beatrice'),\n (323, 'beatrice'),\n (324, 'beatrice'),\n (325, 'beatrice'),\n (326, 'beatrice'),\n (327, 'beatrice'),\n (328, 'beatrice'),\n (329, 'beatrice'),\n (330, 'beatrice'),\n (331, 'beatrice'),\n (332, 'beatrice'),\n (333, 'beatrice'),\n (334, 'beatrice'),\n (335, 'beatrice'),\n (336, 'beatrice'),\n (337, 'beatrice'),\n (338, 'beatrice'),\n (339, 'beatrice'),\n (340, 'beatrice'),\n (341, 'beatrice'),\n (342, 'beatrice'),\n (343, 'beatrice'),\n (344, 'beatrice'),\n (345, 'beatrice'),\n (346, 'beatrice'),\n (347, 'beatrice'),\n (348, 'beatrice'),\n (349, 'beatrice'),\n (350, 'beatrice'),\n (351, 'beatrice'),\n (352, 'beatrice'),\n (353, 'beatrice'),\n (354, 'beatrice'),\n (355, 'beatrice'),\n (356, 'beatrice'),\n (357, 'beatrice'),\n (358, 'beatrice'),\n (359, 'beatrice'),\n (360, 'beatrice'),\n (361, 'beatrice'),\n (362, 'beatrice'),\n (363, 'beatrice'),\n (364, 'beatrice'),\n (365, 'beatrice'),\n (366, 'beatrice'),\n (367, 'beatrice'),\n (368, 'beatrice'),\n (369, 'beatrice'),\n (370, 'beatrice'),\n (371, 'beatrice'),\n (372, 'beatrice'),\n (373, 'beatrice'),\n (374, 'beatrice'),\n (375, 'beatrice'),\n (376, 'beatrice'),\n (377, 'beatrice'),\n (378, 'beatrice'),\n (379, 'beatrice'),\n (380, 'beatrice'),\n (381, 'beatrice'),\n (382, 'beatrice'),\n (383, 'beatrice'),\n (384, 'beatrice'),\n (385, 'beatrice'),\n (386, 'beatrice'),\n (387, 'beatrice'),\n (388, 'beatrice'),\n (389, 'beatrice'),\n (390, 'beatrice'),\n (391, 'beatrice'),\n (392, 'beatrice'),\n (393, 'beatrice'),\n (394, 'beatrice'),\n (395, 'beatrice'),\n (396, 'beatrice'),\n (397, 'beatrice'),\n (398, 'beatrice'),\n (399, 'beatrice'),\n (400, 'beatrice'),\n (401, 'beatrice'),\n (402, 'beatrice'),\n (403, 'beatrice'),\n (404, 'beatrice'),\n (405, 'beatrice'),\n (406, 'beatrice'),\n (407, 'beatrice'),\n (408, 'beatrice'),\n (409, 'beatrice'),\n (410, 'beatrice'),\n (411, 'beatrice'),\n (412, 'beatrice'),\n (413, 'beatrice'),\n (414, 'beatrice'),\n (415, 'beatrice'),\n (416, 'beatrice'),\n (417, 'beatrice'),\n (418, 'beatrice'),\n (419, 'beatrice'),\n (420, 'beatrice'),\n (421, 'beatrice'),\n (422, 'beatrice'),\n (423, 'beatrice'),\n (424, 'beatrice'),\n (425, 'beatrice'),\n (426, 'beatrice'),\n (427, 'beatrice'),\n (428, 'beatrice'),\n (429, 'beatrice'),\n (430, 'beatrice'),\n (431, 'beatrice'),\n (432, 'beatrice'),\n (433, 'beatrice'),\n (434, 'beatrice'),\n (435, 'beatrice'),\n (436, 'beatrice'),\n (437, 'beatrice'),\n (438, 'beatrice'),\n (439, 'beatrice'),\n (440, 'beatrice'),\n (441, 'beatrice'),\n (442, 'beatrice'),\n (443, 'beatrice'),\n (444, 'beatrice'),\n (445, 'beatrice'),\n (446, 'beatrice'),\n (447, 'beatrice'),\n (448, 'beatrice'),\n (449, 'beatrice'),\n (450, 'beatrice'),\n (451, 'beatrice'),\n (452, 'beatrice'),\n (453, 'beatrice'),\n (454, 'beatrice'),\n (455, 'beatrice'),\n (456, 'beatrice'),\n (457, 'beatrice'),\n (458, 'beatrice'),\n (459, 'beatrice'),\n (460, 'beatrice'),\n (461, 'beatrice'),\n (462, 'beatrice'),\n (463, 'beatrice'),\n (464, 'beatrice'),\n (465, 'beatrice'),\n (466, 'beatrice'),\n (467, 'beatrice'),\n (468, 'beatrice'),\n (469, 'beatrice'),\n (470, 'beatrice'),\n (471, 'beatrice'),\n (472, 'beatrice'),\n (473, 'beatrice'),\n (474, 'beatrice'),\n (475, 'beatrice'),\n (476, 'beatrice'),\n (477, 'beatrice'),\n (478, 'beatrice'),\n (479, 'beatrice'),\n (480, 'beatrice'),\n (481, 'beatrice'),\n (482, 'beatrice'),\n (483, 'beatrice'),\n (484, 'beatrice'),\n (485, 'beatrice'),\n (486, 'beatrice'),\n (487, 'beatrice'),\n (488, 'beatrice'),\n (489, 'beatrice'),\n (490, 'beatrice'),\n (491, 'beatrice'),\n (492, 'beatrice'),\n (493, 'beatrice'),\n (494, 'beatrice'),\n (495, 'beatrice'),\n (496, 'beatrice'),\n (497, 'beatrice'),\n (498, 'beatrice'),\n (499, 'beatrice'),\n (500, 'beatrice'),\n (501, 'beatrice'),\n (502, 'beatrice'),\n (503, 'beatrice'),\n (504, 'beatrice'),\n (505, 'beatrice'),\n (506, 'beatrice'),\n (507, 'beatrice'),\n (508, 'beatrice'),\n (509, 'beatrice'),\n (510, 'beatrice'),\n (511, 'beatrice'),\n (512, 'beatrice'),\n (513, 'beatrice'),\n (514, 'beatrice'),\n (515, 'beatrice'),\n (516, 'beatrice'),\n (517, 'beatrice'),\n (518, 'beatrice'),\n (519, 'beatrice'),\n (520, 'beatrice'),\n (521, 'beatrice'),\n (522, 'beatrice'),\n (523, 'beatrice'),\n (524, 'beatrice'),\n (525, 'beatrice'),\n (526, 'beatrice'),\n (527, 'beatrice'),\n (528, 'beatrice'),\n (529, 'beatrice'),\n (530, 'beatrice'),\n (531, 'beatrice'),\n (532, 'beatrice'),\n (533, 'beatrice'),\n (534, 'beatrice'),\n (535, 'beatrice'),\n (536, 'beatrice'),\n (537, 'beatrice'),\n (538, 'beatrice'),\n (539, 'beatrice'),\n (540, 'beatrice'),\n (541, 'beatrice'),\n (542, 'beatrice'),\n (543, 'beatrice'),\n (544, 'beatrice'),\n (545, 'beatrice'),\n (546, 'beatrice'),\n (547, 'beatrice'),\n (548, 'beatrice'),\n (549, 'beatrice'),\n (550, 'beatrice'),\n (551, 'beatrice'),\n (552, 'beatrice'),\n (553, 'beatrice'),\n (554, 'beatrice'),\n (555, 'beatrice'),\n (556, 'beatrice'),\n (557, 'beatrice'),\n (558, 'beatrice'),\n (559, 'beatrice'),\n (560, 'beatrice'),\n (561, 'beatrice'),\n (562, 'beatrice'),\n (563, 'beatrice'),\n (564, 'beatrice'),\n (565, 'beatrice'),\n (566, 'beatrice'),\n (567, 'beatrice'),\n (568, 'beatrice'),\n (569, 'beatrice'),\n (570, 'beatrice'),\n (571, 'beatrice'),\n (572, 'beatrice'),\n (573, 'beatrice'),\n (574, 'beatrice'),\n (575, 'beatrice'),\n (576, 'beatrice'),\n (577, 'beatrice'),\n (578, 'beatrice'),\n (579, 'beatrice'),\n (580, 'beatrice'),\n (581, 'beatrice'),\n (582, 'beatrice'),\n (583, 'beatrice'),\n (584, 'beatrice'),\n (585, 'beatrice'),\n (586, 'beatrice'),\n (587, 'beatrice'),\n (588, 'beatrice'),\n (589, 'beatrice'),\n (590, 'beatrice'),\n (591, 'beatrice'),\n (592, 'beatrice'),\n (593, 'beatrice'),\n (594, 'beatrice'),\n (595, 'beatrice'),\n (596, 'beatrice'),\n (597, 'beatrice'),\n (598, 'beatrice'),\n (599, 'beatrice'),\n (600, 'beatrice'),\n (601, 'beatrice'),\n (602, 'beatrice'),\n (603, 'beatrice'),\n (604, 'beatrice'),\n (605, 'beatrice'),\n (606, 'beatrice'),\n (607, 'beatrice'),\n (608, 'beatrice'),\n (609, 'beatrice'),\n (610, 'beatrice'),\n (611, 'beatrice'),\n (612, 'beatrice'),\n (613, 'beatrice'),\n (614, 'beatrice'),\n (615, 'beatrice'),\n (616, 'beatrice'),\n (617, 'beatrice'),\n (618, 'beatrice'),\n (619, 'beatrice'),\n (620, 'beatrice'),\n (621, 'beatrice'),\n (622, 'beatrice'),\n (623, 'beatrice'),\n (624, 'beatrice'),\n (625, 'beatrice'),\n (626, 'beatrice'),\n (627, 'beatrice'),\n (628, 'beatrice'),\n (629, 'beatrice'),\n (630, 'beatrice'),\n (631, 'beatrice'),\n (632, 'beatrice'),\n (633, 'beatrice'),\n (634, 'beatrice'),\n (635, 'beatrice'),\n (636, 'beatrice'),\n (637, 'beatrice'),\n (638, 'beatrice'),\n (639, 'beatrice'),\n (640, 'beatrice'),\n (641, 'beatrice'),\n (642, 'beatrice'),\n (643, 'beatrice'),\n (644, 'beatrice'),\n (645, 'beatrice'),\n (646, 'beatrice'),\n (647, 'beatrice'),\n (648, 'beatrice'),\n (649, 'beatrice'),\n (650, 'beatrice'),\n (651, 'beatrice'),\n (652, 'beatrice'),\n (653, 'beatrice'),\n (654, 'beatrice'),\n (655, 'beatrice'),\n (656, 'beatrice'),\n (657, 'beatrice'),\n (658, 'beatrice'),\n (659, 'beatrice'),\n (660, 'beatrice'),\n (661, 'beatrice'),\n (662, 'beatrice'),\n (663, 'beatrice'),\n (664, 'beatrice'),\n (665, 'beatrice'),\n (666, 'beatrice'),\n (667, 'beatrice'),\n (668, 'beatrice'),\n (669, 'beatrice'),\n (670, 'beatrice'),\n (671, 'beatrice'),\n (672, 'beatrice'),\n (673, 'beatrice'),\n (674, 'beatrice'),\n (675, 'beatrice'),\n (676, 'beatrice'),\n (677, 'beatrice'),\n (678, 'beatrice'),\n (679, 'beatrice'),\n (680, 'beatrice'),\n (681, 'beatrice'),\n (682, 'beatrice'),\n (683, 'beatrice'),\n (684, 'beatrice'),\n (685, 'beatrice'),\n (686, 'beatrice'),\n (687, 'beatrice'),\n (688, 'beatrice'),\n (689, 'beatrice'),\n (690, 'beatrice'),\n (691, 'beatrice'),\n (692, 'beatrice'),\n (693, 'beatrice'),\n (694, 'beatrice'),\n (695, 'beatrice'),\n (696, 'beatrice'),\n (697, 'beatrice'),\n (698, 'beatrice'),\n (699, 'beatrice'),\n (700, 'beatrice'),\n (701, 'beatrice'),\n (702, 'beatrice'),\n (703, 'beatrice'),\n (704, 'beatrice'),\n (705, 'beatrice'),\n (706, 'beatrice'),\n (707, 'beatrice'),\n (708, 'beatrice'),\n (709, 'beatrice'),\n (710, 'beatrice'),\n (711, 'beatrice'),\n (712, 'beatrice'),\n (713, 'beatrice'),\n (714, 'beatrice'),\n (715, 'beatrice'),\n (716, 'beatrice'),\n (717, 'beatrice'),\n (718, 'beatrice'),\n (719, 'beatrice'),\n (720, 'beatrice'),\n (721, 'beatrice'),\n (722, 'beatrice'),\n (723, 'beatrice'),\n (724, 'beatrice'),\n (725, 'beatrice'),\n (726, 'beatrice'),\n (727, 'beatrice'),\n (728, 'beatrice'),\n (729, 'beatrice'),\n (730, 'beatrice'),\n (731, 'beatrice'),\n (732, 'beatrice'),\n (733, 'beatrice'),\n (734, 'beatrice'),\n (735, 'beatrice'),\n (736, 'beatrice'),\n (737, 'beatrice'),\n (738, 'beatrice'),\n (739, 'beatrice'),\n (740, 'beatrice'),\n (741, 'beatrice'),\n (742, 'beatrice'),\n (743, 'beatrice'),\n (744, 'beatrice'),\n (745, 'beatrice'),\n (746, 'beatrice'),\n (747, 'beatrice'),\n (748, 'beatrice'),\n (749, 'beatrice'),\n (750, 'beatrice'),\n (751, 'beatrice'),\n (752, 'beatrice'),\n (753, 'beatrice'),\n (754, 'beatrice'),\n (755, 'beatrice'),\n (756, 'beatrice'),\n (757, 'beatrice'),\n (758, 'beatrice'),\n (759, 'beatrice'),\n (760, 'beatrice'),\n (761, 'beatrice'),\n (762, 'beatrice'),\n (763, 'beatrice'),\n (764, 'beatrice'),\n (765, 'beatrice'),\n (766, 'beatrice'),\n (767, 'beatrice'),\n (768, 'beatrice'),\n (769, 'beatrice'),\n (770, 'beatrice'),\n (771, 'beatrice'),\n (772, 'beatrice'),\n (773, 'beatrice'),\n (774, 'beatrice'),\n (775, 'beatrice'),\n (776, 'beatrice'),\n (777, 'beatrice'),\n (778, 'beatrice'),\n (779, 'beatrice'),\n (780, 'beatrice'),\n (781, 'beatrice'),\n (782, 'beatrice'),\n (783, 'beatrice'),\n (784, 'beatrice'),\n (785, 'beatrice'),\n (786, 'beatrice'),\n (787, 'beatrice'),\n (788, 'beatrice'),\n (789, 'beatrice'),\n (790, 'beatrice'),\n (791, 'beatrice'),\n (792, 'beatrice'),\n (793, 'beatrice'),\n (794, 'beatrice'),\n (795, 'beatrice'),\n (796, 'beatrice'),\n (797, 'beatrice'),\n (798, 'beatrice'),\n (799, 'beatrice'),\n (800, 'beatrice'),\n (801, 'beatrice'),\n (802, 'beatrice'),\n (803, 'beatrice'),\n (804, 'beatrice'),\n (805, 'beatrice'),\n (806, 'beatrice'),\n (807, 'beatrice'),\n (808, 'beatrice'),\n (809, 'beatrice'),\n (810, 'beatrice'),\n (811, 'beatrice'),\n (812, 'beatrice'),\n (813, 'beatrice'),\n (814, 'beatrice'),\n (815, 'beatrice'),\n (816, 'beatrice'),\n (817, 'beatrice'),\n (818, 'beatrice'),\n (819, 'beatrice'),\n (820, 'beatrice'),\n (821, 'beatrice'),\n (822, 'beatrice'),\n (823, 'beatrice'),\n (824, 'beatrice'),\n (825, 'beatrice'),\n (826, 'beatrice'),\n (827, 'beatrice'),\n (828, 'beatrice'),\n (829, 'beatrice'),\n (830, 'beatrice'),\n (831, 'beatrice'),\n (832, 'beatrice'),\n (833, 'beatrice'),\n (834, 'beatrice'),\n (835, 'beatrice'),\n (836, 'beatrice'),\n (837, 'beatrice'),\n (838, 'beatrice'),\n (839, 'beatrice'),\n (840, 'beatrice'),\n (841, 'beatrice'),\n (842, 'beatrice'),\n (843, 'beatrice'),\n (844, 'beatrice'),\n (845, 'beatrice'),\n (846, 'beatrice'),\n (847, 'beatrice'),\n (848, 'beatrice'),\n (849, 'beatrice'),\n (850, 'beatrice'),\n (851, 'beatrice'),\n (852, 'beatrice'),\n (853, 'beatrice'),\n (854, 'beatrice'),\n (855, 'beatrice'),\n (856, 'beatrice'),\n (857, 'beatrice'),\n (858, 'beatrice'),\n (859, 'beatrice'),\n (860, 'beatrice'),\n (861, 'beatrice'),\n (862, 'beatrice'),\n (863, 'beatrice'),\n (864, 'beatrice'),\n (865, 'beatrice'),\n (866, 'beatrice'),\n (867, 'beatrice'),\n (868, 'beatrice'),\n (869, 'beatrice'),\n (870, 'beatrice'),\n (871, 'beatrice'),\n (872, 'beatrice'),\n (873, 'beatrice'),\n (874, 'beatrice'),\n (875, 'beatrice'),\n (876, 'beatrice'),\n (877, 'beatrice'),\n (878, 'beatrice'),\n (879, 'beatrice'),\n (880, 'beatrice'),\n (881, 'beatrice'),\n (882, 'beatrice'),\n (883, 'beatrice'),\n (884, 'beatrice'),\n (885, 'beatrice'),\n (886, 'beatrice'),\n (887, 'beatrice'),\n (888, 'beatrice'),\n (889, 'beatrice'),\n (890, 'beatrice'),\n (891, 'beatrice'),\n (892, 'beatrice'),\n (893, 'beatrice'),\n (894, 'beatrice'),\n (895, 'beatrice'),\n (896, 'beatrice'),\n (897, 'beatrice'),\n (898, 'beatrice'),\n (899, 'beatrice'),\n (900, 'beatrice'),\n (901, 'beatrice'),\n (902, 'beatrice'),\n (903, 'beatrice'),\n (904, 'beatrice'),\n (905, 'beatrice'),\n (906, 'beatrice'),\n (907, 'beatrice'),\n (908, 'beatrice'),\n (909, 'beatrice'),\n (910, 'beatrice'),\n (911, 'beatrice'),\n (912, 'beatrice'),\n (913, 'beatrice'),\n (914, 'beatrice'),\n (915, 'beatrice'),\n (916, 'beatrice'),\n (917, 'beatrice'),\n (918, 'beatrice'),\n (919, 'beatrice'),\n (920, 'beatrice'),\n (921, 'beatrice'),\n (922, 'beatrice'),\n (923, 'beatrice'),\n (924, 'beatrice'),\n (925, 'beatrice'),\n (926, 'beatrice'),\n (927, 'beatrice'),\n (928, 'beatrice'),\n (929, 'beatrice'),\n (930, 'beatrice'),\n (931, 'beatrice'),\n (932, 'beatrice'),\n (933, 'beatrice'),\n (934, 'beatrice'),\n (935, 'beatrice'),\n (936, 'beatrice'),\n (937, 'beatrice'),\n (938, 'beatrice'),\n (939, 'beatrice'),\n (940, 'beatrice'),\n (941, 'beatrice'),\n (942, 'beatrice'),\n (943, 'beatrice'),\n (944, 'beatrice'),\n (945, 'beatrice'),\n (946, 'beatrice'),\n (947, 'beatrice'),\n (948, 'beatrice'),\n (949, 'beatrice'),\n (950, 'beatrice'),\n (951, 'beatrice'),\n (952, 'beatrice'),\n (953, 'beatrice'),\n (954, 'beatrice'),\n (955, 'beatrice'),\n (956, 'beatrice'),\n (957, 'beatrice'),\n (958, 'beatrice'),\n (959, 'beatrice'),\n (960, 'beatrice'),\n (961, 'beatrice'),\n (962, 'beatrice'),\n (963, 'beatrice'),\n (964, 'beatrice'),\n (965, 'beatrice'),\n (966, 'beatrice'),\n (967, 'beatrice'),\n (968, 'beatrice'),\n (969, 'beatrice'),\n (970, 'beatrice'),\n (971, 'beatrice'),\n (972, 'beatrice'),\n (973, 'beatrice'),\n (974, 'beatrice'),\n (975, 'beatrice'),\n (976, 'beatrice'),\n (977, 'beatrice'),\n (978, 'beatrice'),\n (979, 'beatrice'),\n (980, 'beatrice'),\n (981, 'beatrice'),\n (982, 'beatrice'),\n (983, 'beatrice'),\n (984, 'beatrice'),\n (985, 'beatrice'),\n (986, 'beatrice'),\n (987, 'beatrice'),\n (988, 'beatrice'),\n (989, 'beatrice'),\n (990, 'beatrice'),\n (991, 'beatrice'),\n (992, 'beatrice'),\n (993, 'beatrice'),\n (994, 'beatrice'),\n (995, 'beatrice'),\n (996, 'beatrice'),\n (997, 'beatrice'),\n (998, 'beatrice'),\n (999, 'beatrice'),\n ...]"
     ]
    }
   ],
   "source": [
    "verti = []\n",
    "for i in range(0,82169):\n",
    "  verti.append((i,\"beatrice\"))\n",
    "verti"
   ]
  },
  {
   "cell_type": "code",
   "execution_count": 0,
   "metadata": {
    "application/vnd.databricks.v1+cell": {
     "cellMetadata": {
      "byteLimit": 2048000,
      "rowLimit": 10000
     },
     "collapsed": true,
     "inputWidgets": {},
     "nuid": "45dd9918-4be3-4037-8b4c-adc35867d616",
     "showTitle": false,
     "tableResultSettingsMap": {},
     "title": ""
    }
   },
   "outputs": [
    {
     "output_type": "stream",
     "name": "stdout",
     "output_type": "stream",
     "text": [
      "[(0, 0), (0, 1), (0, 2), (0, 3), (0, 4), (0, 5), (0, 6), (0, 7), (0, 8), (0, 9), (0, 10), (0, 11), (0, 12), (0, 13), (0, 14), (0, 15), (0, 16), (0, 17), (0, 18), (0, 19), (0, 20), (0, 21), (0, 22), (0, 23), (0, 24), (0, 25), (0, 26), (0, 27), (0, 28), (0, 29), (0, 30), (0, 31), (0, 32), (0, 33), (0, 34), (0, 35), (0, 36), (0, 37), (0, 38), (0, 39), (0, 40), (0, 41), (0, 42), (0, 43), (0, 44), (0, 45), (0, 46), (0, 47), (0, 48), (0, 49), (0, 50), (0, 51), (0, 52), (0, 53), (0, 54), (0, 55), (0, 56), (0, 57), (0, 58), (0, 59), (0, 60), (0, 61), (0, 62), (0, 63), (0, 64), (0, 65), (0, 66), (0, 67), (0, 68), (0, 69), (0, 70), (0, 71), (0, 72), (0, 73), (0, 74), (0, 75), (0, 76), (0, 77), (0, 78), (0, 79), (0, 80), (0, 81), (0, 82), (0, 83), (0, 84), (0, 85), (0, 86), (0, 87), (0, 88), (0, 89), (0, 90), (0, 91), (0, 92), (0, 93), (0, 94), (0, 95), (0, 96), (0, 97), (0, 98), (0, 99), (0, 100), (0, 101), (0, 102), (0, 103), (0, 104), (0, 105), (0, 106), (0, 107), (0, 108), (0, 109), (0, 110), (0, 111), (0, 112), (0, 113), (0, 114), (0, 115), (0, 116), (0, 117), (0, 118), (0, 119), (0, 120), (0, 121), (0, 122), (0, 123), (0, 124), (0, 125), (0, 126), (0, 127), (0, 128), (0, 129), (0, 130), (0, 131), (0, 132), (0, 133), (0, 134), (0, 135), (0, 136), (0, 137), (0, 138), (0, 139), (0, 140), (0, 141), (0, 142), (0, 143), (0, 144), (0, 145), (0, 146), (0, 147), (0, 148), (0, 149), (0, 150), (0, 151), (0, 152), (0, 153), (0, 154), (0, 155), (0, 156), (0, 157), (0, 158), (0, 159), (0, 160), (0, 161), (0, 162), (0, 163), (0, 164), (0, 165), (0, 166), (0, 167), (0, 168), (0, 169), (0, 170), (0, 171), (0, 172), (0, 173), (0, 174), (0, 175), (0, 176), (0, 177), (0, 178), (0, 179), (0, 180), (0, 181), (0, 182), (0, 183), (0, 184), (0, 185), (0, 186), (0, 187), (0, 188), (0, 189), (0, 190), (0, 191), (0, 192), (0, 193), (0, 194), (0, 195), (0, 196), (0, 197), (0, 198), (0, 199), (0, 200), (0, 201), (0, 202), (0, 203), (0, 204), (0, 205), (0, 206), (0, 207), (0, 208), (0, 209), (0, 210), (0, 211), (0, 212), (0, 213), (0, 214), (0, 215), (1, 0), (1, 1), (1, 4), (1, 9), (1, 60), (1, 92), (1, 94), (1, 95), (1, 128), (1, 148), (1, 150), (1, 154), (1, 169), (1, 170), (1, 180), (1, 187), (1, 217), (1, 226), (1, 284), (1, 285), (1, 380), (1, 474), (1, 659), (1, 706), (1, 717), (1, 736), (1, 921), (1, 1099), (1, 1171), (1, 1234), (1, 1371), (1, 1383), (1, 1488), (1, 1570), (1, 1579), (1, 1910), (1, 2242), (1, 2370), (1, 2378), (1, 2396), (1, 2504), (1, 2521), (1, 2526), (1, 2569), (1, 2738), (1, 2828), (1, 2956), (1, 2979), (1, 3482), (1, 3574), (1, 3877), (1, 4003), (1, 4189), (1, 4472), (1, 4789), (1, 4790), (1, 4791), (1, 4792), (1, 4793), (1, 4794), (1, 4795), (1, 4796), (1, 4797), (1, 4798), (1, 4799), (1, 4800), (1, 4801), (1, 4802), (1, 4803), (1, 4804), (1, 4805), (1, 4806), (1, 4807), (1, 4808), (1, 4809), (1, 4810), (1, 4811), (1, 4812), (1, 4813), (1, 4814), (1, 4815), (1, 4816), (1, 4817), (1, 4818), (1, 4819), (1, 4820), (1, 4821), (1, 4822), (1, 4823), (1, 4824), (1, 4825), (1, 4826), (1, 4827), (1, 4828), (1, 4829), (1, 4830), (1, 4831), (1, 4832), (1, 4833), (1, 4834), (1, 4835), (1, 4836), (1, 4837), (1, 4838), (1, 4839), (1, 4840), (1, 4841), (1, 4842), (1, 4843), (1, 4844), (1, 4845), (1, 4846), (1, 4847), (1, 4848), (1, 4849), (1, 4850), (1, 4851), (1, 4852), (1, 4853), (1, 4854), (1, 4855), (1, 4856), (1, 4857), (1, 4858), (1, 4859), (1, 4860), (1, 4861), (1, 4862), (1, 4863), (1, 4864), (1, 4865), (1, 4866), (1, 4867), (1, 4868), (1, 4869), (1, 4870), (1, 4871), (1, 4872), (1, 4873), (1, 4874), (1, 4875), (1, 4876), (1, 4877), (1, 4878), (1, 4879), (1, 4880), (1, 4881), (1, 4882), (1, 4883), (1, 4884), (1, 4885), (1, 4886), (1, 4887), (1, 4888), (1, 4889), (1, 4890), (1, 4891), (1, 4892), (1, 4893), (1, 4894), (1, 4895), (1, 4896), (1, 4897), (1, 4898), (1, 4899), (1, 4900), (1, 4901), (3, 0), (3, 3), (3, 8), (3, 9), (3, 17), (3, 28), (3, 49), (3, 60), (3, 87), (3, 98), (3, 114), (3, 144), (3, 150), (3, 154), (3, 168), (3, 179), (3, 195), (3, 241), (3, 274), (3, 398), (3, 399), (3, 403), (3, 405), (3, 413), (3, 460), (3, 511), (3, 516), (3, 582), (3, 653), (3, 825), (3, 844), (3, 931), (3, 1004), (3, 1050), (3, 1229), (3, 1280), (3, 1377), (3, 1710), (3, 1912), (3, 1923), (3, 1949), (3, 2042), (3, 2088), (3, 2139), (3, 2149), (3, 2332), (3, 2370), (3, 2496), (3, 2504), (3, 2526), (3, 2587), (3, 2597), (3, 2603), (3, 4902), (3, 4903), (4, 0), (4, 1), (4, 4), (4, 98), (4, 108), (4, 128), (4, 381), (4, 446), (4, 683), (4, 897), (4, 1230), (4, 1344), (4, 1437), (4, 1513), (4, 1835), (4, 2271), (4, 2378), (4, 2382), (4, 2515), (4, 2545), (4, 2795), (4, 3758), (4, 4173), (4, 4299), (4, 4308), (4, 4472), (4, 4689), (4, 4810), (4, 4828), (4, 4865), (4, 4877), (4, 4904), (4, 4905), (4, 4906), (4, 4907), (4, 4908), (4, 4909), (4, 4910), (4, 4911), (4, 4912), (4, 4913), (4, 4914), (4, 4915), (4, 4916), (4, 4917), (4, 4918), (4, 4919), (4, 4920), (4, 4921), (4, 4922), (4, 4923), (4, 4924), (4, 4925), (4, 4926), (4, 4927), (4, 4928), (4, 4929), (4, 4930), (4, 4931), (4, 4932), (4, 4933), (4, 4934), (4, 4935), (4, 4936), (4, 4937), (4, 4938), (4, 4939), (4, 4940), (4, 4941), (4, 4942), (4, 4943), (4, 4944), (4, 4945), (4, 4946), (4, 4947), (4, 4948), (4, 4949), (4, 4950), (4, 4951), (4, 4952), (4, 4953), (4, 4954), (4, 4955), (4, 4956), (4, 4957), (4, 4958), (4, 4959), (4, 4960), (4, 4961), (4, 4962), (4, 4963), (4, 4964), (4, 4965), (4, 4966), (4, 4967), (4, 4968), (4, 4969), (4, 4970), (4, 4971), (4, 4972), (4, 4973), (4, 4974), (4, 4975), (4, 4976), (4, 4977), (4, 4978), (4, 4979), (4, 4980), (4, 4981), (4, 4982), (4, 4983), (5, 0), (5, 5), (5, 11), (5, 15), (5, 37), (5, 69), (5, 154), (5, 195), (5, 217), (5, 219), (5, 226), (5, 381), (5, 398), (5, 405), (5, 408), (5, 410), (5, 413), (5, 583), (5, 917), (5, 962), (5, 1229), (5, 1592), (5, 1600), (5, 1782), (5, 1835), (5, 1859), (5, 2092), (5, 2220), (5, 2411), (5, 2438), (5, 2494), (5, 2504), (5, 2515), (5, 2552), (5, 2571), (5, 2830), (5, 4643), (5, 4797), (5, 4805), (5, 4845), (5, 4858), (5, 4964), (5, 4984), (5, 4985), (5, 4986), (5, 4987), (5, 4988), (5, 4989), (5, 4990), (5, 4991), (5, 4992), (5, 4993), (5, 4994), (5, 4995), (5, 4996), (5, 4997), (5, 4998), (5, 4999), (5, 5000), (5, 5001), (5, 5002), (5, 5003), (5, 5004), (5, 5005), (5, 5006), (5, 5007), (5, 5008), (5, 5009), (5, 5010), (5, 5011), (5, 5012), (5, 5013), (5, 5014), (5, 5015), (5, 5016), (5, 5017), (5, 5018), (5, 5019), (5, 5020), (5, 5021), (5, 5022), (5, 5023), (5, 5024), (5, 5025), (5, 5026), (5, 5027), (5, 5028), (5, 5029), (5, 5030), (5, 5031), (5, 5032), (5, 5033), (5, 5034), (5, 5035), (5, 5036), (5, 5037), (5, 5038), (5, 5039), (5, 5040), (5, 5041), (5, 5042), (5, 5043), (5, 5044), (5, 5045), (5, 5046), (5, 5047), (5, 5048), (5, 5049), (5, 5050), (5, 5051), (6, 0), (6, 6), (6, 217), (6, 228), (6, 381), (6, 1171), (6, 1489), (6, 2494), (6, 2830), (6, 3853), (6, 4805), (6, 4817), (6, 5031), (6, 5052), (6, 5053), (6, 5054), (6, 5055), (6, 5056), (6, 5057), (6, 5058), (6, 5059), (6, 5060), (6, 5061), (7, 0), (7, 7), (7, 555), (7, 1439), (7, 1789), (7, 1871), (7, 1894), (7, 2306), (7, 2852), (7, 3047), (7, 3115), (7, 3216), (7, 3494), (7, 3572), (7, 3701), (7, 3914), (7, 4005), (7, 4013), (7, 4113), (7, 4225), (7, 4336), (7, 4589), (7, 4906), (7, 5062), (7, 5063), (7, 5064), (7, 5065), (7, 5066), (7, 5067), (7, 5068), (7, 5069), (7, 5070), (7, 5071), (7, 5072), (7, 5073), (7, 5074), (7, 5075), (7, 5076), (7, 5077), (7, 5078), (7, 5079), (7, 5080), (7, 5081), (7, 5082), (7, 5083), (7, 5084), (7, 5085), (7, 5086), (7, 5087), (7, 5088), (7, 5089), (7, 5090), (7, 5091), (7, 5092), (7, 5093), (7, 5094), (7, 5095), (7, 5096), (7, 5097), (7, 5098), (7, 5099), (7, 5100), (7, 5101), (7, 5102), (7, 5103), (7, 5104), (7, 5105), (7, 5106), (7, 5107), (7, 5108), (7, 5109), (7, 5110), (7, 5111), (7, 5112), (7, 5113), (8, 0), (8, 3), (8, 8), (8, 9), (8, 11), (8, 14), (8, 17), (8, 18), (8, 25), (8, 26), (8, 28), (8, 35), (8, 38), (8, 39), (8, 45), (8, 49), (8, 50), (8, 52), (8, 53), (8, 55), (8, 73), (8, 78), (8, 79), (8, 86), (8, 87), (8, 96), (8, 106), (8, 109), (8, 110), (8, 114), (8, 121), (8, 131), (8, 133), (8, 138), (8, 141), (8, 143), (8, 145), (8, 150), (8, 154), (8, 162), (8, 168), (8, 174), (8, 175), (8, 179), (8, 180), (8, 185), (8, 187), (8, 188), (8, 189), (8, 192), (8, 194), (8, 195), (8, 206), (8, 216), (8, 241), (8, 246), (8, 253), (8, 267), (8, 274), (8, 283), (8, 304), (8, 324), (8, 335), (8, 336), (8, 340), (8, 342), (8, 345), (8, 365), (8, 366), (8, 372), (8, 375), (8, 383), (8, 385), (8, 393), (8, 398), (8, 399), (8, 400), (8, 401), (8, 402), (8, 403), (8, 404), (8, 405), (8, 406), (8, 408), (8, 413), (8, 416), (8, 447), (8, 452), (8, 460), (8, 478), (8, 482), (8, 485), (8, 511), (8, 533), (8, 538), (8, 539), (8, 551), (8, 582), (8, 586), (8, 587), (8, 588), (8, 608), (8, 638), (8, 643), (8, 666), (8, 722), (8, 748), (8, 770), (8, 776), (8, 806), (8, 844), (8, 866), (8, 871), (8, 879), (8, 881), (8, 891), (8, 898), (8, 906), (8, 946), (8, 951), (8, 973), (8, 1050), (8, 1066), (8, 1067), (8, 1072), (8, 1094), (8, 1098), (8, 1105), (8, 1111), (8, 1117), (8, 1154), (8, 1175), (8, 1196), (8, 1210), (8, 1213), (8, 1229), (8, 1230), (8, 1248), (8, 1285), (8, 1297), (8, 1299), (8, 1301), (8, 1320), (8, 1327), (8, 1341), (8, 1346), (8, 1365), (8, 1366), (8, 1369), (8, 1374), (8, 1411), (8, 1422), (8, 1453), (8, 1469), (8, 1473), (8, 1490), (8, 1501), (8, 1509), (8, 1513), (8, 1519), (8, 1528), (8, 1545), (8, 1559), (8, 1563), (8, 1585), (8, 1593), (8, 1594), (8, 1600), (8, 1611), (8, 1624), (8, 1636), (8, 1645), (8, 1658), (8, 1663), (8, 1670), (8, 1673), (8, 1696), (8, 1700), (8, 1702), (8, 1714), (8, 1723), (8, 1734), (8, 1750), (8, 1756), (8, 1764), (8, 1781), (8, 1789), (8, 1796), (8, 1825), (8, 1832), (8, 1835), (8, 1871), (8, 1877), (8, 1899), (8, 1910), (8, 1949), (8, 1971), (8, 1973), (8, 1982), (8, 1999), (8, 2002), (8, 2010), (8, 2012), (8, 2033), (8, 2042), (8, 2047), (8, 2062), (8, 2067), (8, 2092), (8, 2135), (8, 2136), (8, 2139), (8, 2150), (8, 2152), (8, 2159), (8, 2178), (8, 2201), (8, 2224), (8, 2225), (8, 2238), (8, 2239), (8, 2243), (8, 2282), (8, 2284), (8, 2330), (8, 2332), (8, 2357), (8, 2362), (8, 2370), (8, 2373), (8, 2398), (8, 2411), (8, 2413), (8, 2423), (8, 2424), (8, 2440), (8, 2488), (8, 2504), (8, 2509), (8, 2513), (8, 2517), (8, 2520), (8, 2539), (8, 2541), (8, 2542), (8, 2578), (8, 2587), (8, 2601), (8, 2603), (8, 2611), (8, 2617), (8, 2619), (8, 2624), (8, 2628), (8, 2629), (8, 2702), (8, 2738), (8, 2790), (8, 2845), (8, 2850), (8, 2880), (8, 2887), (8, 2897), (8, 2912), (8, 2949), (8, 2964), (8, 2999), (8, 3010), (8, 3069), (8, 3105), (8, 3108), (8, 3204), (8, 3470), (8, 3611), (8, 3648), (8, 3699), (8, 3778), (8, 3839), (8, 3924), (8, 4217), (8, 4298), (8, 4381), (8, 4404), (8, 4406), (8, 4421), (8, 4424), (8, 4566), (8, 4587), (8, 4632), (8, 4672), (8, 4718), (8, 4799), (8, 4828), (8, 4860), (8, 4902), (8, 4906), (8, 5046), (8, 5066), (8, 5083), (8, 5084), (8, 5090), (8, 5096), (8, 5102), (8, 5114), (8, 5115), (8, 5116), (8, 5117), (8, 5118), (8, 5119), (8, 5120), (8, 5121), (8, 5122), (8, 5123), (8, 5124), (8, 5125), (8, 5126), (8, 5127), (8, 5128), (8, 5129), (8, 5130), (8, 5131), (8, 5132), (8, 5133), (8, 5134), (8, 5135), (8, 5136), (8, 5137), (8, 5138), (8, 5139), (8, 5140), (8, 5141), (8, 5142), (8, 5143), (8, 5144), (8, 5145), (8, 5146), (8, 5147), (8, 5148), (8, 5149), (8, 5150), (8, 5151), (8, 5152), (8, 5153), (8, 5154), (8, 5155), (8, 5156), (8, 5157), (8, 5158), (8, 5159), (8, 5160), (8, 5161), (8, 5162), (8, 5163), (8, 5164), (8, 5165), (8, 5166), (8, 5167), (8, 5168), (8, 5169), (8, 5170), (8, 5171), (8, 5172), (8, 5173), (8, 5174), (8, 5175), (8, 5176), (8, 5177), (8, 5178), (8, 5179), (8, 5180), (8, 5181), (8, 5182), (8, 5183), (8, 5184), (8, 5185), (8, 5186), (8, 5187), (8, 5188), (8, 5189), (8, 5190), (8, 5191), (8, 5192), (8, 5193), (8, 5194), (8, 5195), (8, 5196), (8, 5197), (8, 5198), (8, 5199), (8, 5200), (8, 5201), (8, 5202), (8, 5203), (8, 5204), (8, 5205), (8, 5206), (8, 5207), (8, 5208), (8, 5209), (8, 5210), (8, 5211), (8, 5212), (8, 5213), (8, 5214), (8, 5215), (8, 5216), (8, 5217), (8, 5218), (8, 5219), (8, 5220), (8, 5221), (8, 5222), (8, 5223), (8, 5224), (8, 5225), (8, 5226), (8, 5227), (8, 5228), (8, 5229), (8, 5230), (8, 5231), (8, 5232), (8, 5233), (8, 5234), (8, 5235), (8, 5236), (8, 5237), (8, 5238), (8, 5239), (8, 5240), (8, 5241), (8, 5242), (8, 5243), (8, 5244), (8, 5245), (8, 5246), (8, 5247), (8, 5248), (8, 5249), (8, 5250), (8, 5251), (8, 5252), (8, 5253), (8, 5254), (8, 5255), (8, 5256), (8, 5257), (8, 5258), (8, 5259), (8, 5260), (8, 5261), (8, 5262), (8, 5263), (8, 5264), (8, 5265), (8, 5266), (8, 5267), (8, 5268), (8, 5269), (8, 5270), (8, 5271), (8, 5272), (8, 5273), (8, 5274), (8, 5275), (8, 5276), (8, 5277), (8, 5278), (8, 5279), (8, 5280), (8, 5281), (8, 5282), (8, 5283), (8, 5284), (8, 5285), (8, 5286), (8, 5287), (8, 5288), (8, 5289), (8, 5290), (8, 5291), (8, 5292), (8, 5293), (8, 5294), (8, 5295), (8, 5296), (8, 5297), (8, 5298), (8, 5299), (8, 5300), (8, 5301), (8, 5302), (8, 5303), (8, 5304), (8, 5305), (8, 5306), (8, 5307), (8, 5308), (8, 5309), (8, 5310), (8, 5311), (8, 5312), (8, 5313), (8, 5314), (8, 5315), (8, 5316), (8, 5317), (8, 5318), (8, 5319), (8, 5320), (8, 5321), (8, 5322), (8, 5323), (8, 5324), (8, 5325), (8, 5326), (8, 5327), (8, 5328), (8, 5329), (8, 5330), (8, 5331), (8, 5332), (8, 5333), (8, 5334), (8, 5335), (8, 5336), (8, 5337), (8, 5338), (8, 5339), (8, 5340), (8, 5341), (8, 5342), (8, 5343), (8, 5344), (8, 5345), (8, 5346), (8, 5347), (8, 5348), (8, 5349), (8, 5350), (8, 5351), (8, 5352), (8, 5353), (8, 5354), (8, 5355), (8, 5356), (8, 5357), (8, 5358), (8, 5359), (8, 5360), (8, 5361), (8, 5362), (8, 5363), (8, 5364), (8, 5365), (8, 5366), (8, 5367), (8, 5368), (8, 5369), (8, 5370), (8, 5371), (8, 5372), (8, 5373), (8, 5374), (8, 5375), (8, 5376), (8, 5377), (8, 5378), (8, 5379), (8, 5380), (8, 5381), (8, 5382), (8, 5383), (8, 5384), (8, 5385), (8, 5386), (8, 5387), (8, 5388), (8, 5389), (8, 5390), (8, 5391), (8, 5392), (8, 5393), (8, 5394), (8, 5395), (8, 5396), (8, 5397), (8, 5398), (8, 5399), (8, 5400), (8, 5401), (8, 5402), (8, 5403), (8, 5404), (8, 5405), (9, 0), (9, 1), (9, 3), (9, 8), (9, 9), (9, 11), (9, 17), (9, 18), (9, 28), (9, 49), (9, 50), (9, 52), (9, 53), (9, 54), (9, 63), (9, 82), (9, 84), (9, 91), (9, 93), (9, 96), (9, 114), (9, 125), (9, 131), (9, 143), (9, 144), (9, 150), (9, 154), (9, 161), (9, 168), (9, 174), (9, 180), (9, 189), (9, 192), (9, 195), (9, 202), (9, 208), (9, 221), (9, 267), (9, 375), (9, 398), (9, 399), (9, 400), (9, 403), (9, 405), (9, 406), (9, 408), (9, 410), (9, 413), (9, 459), (9, 478), (9, 511), (9, 516), (9, 522), (9, 582), (9, 666), (9, 722), (9, 776), (9, 779), (9, 808), (9, 811), (9, 847), (9, 916), (9, 973), (9, 979), (9, 997), (9, 1050), (9, 1052), (9, 1092), (9, 1139), (9, 1210), (9, 1229), (9, 1320), (9, 1327), (9, 1374), (9, 1436), (9, 1489), (9, 1497), (9, 1526), (9, 1528), (9, 1542), (9, 1624), (9, 1658), (9, 1673), (9, 1710), (9, 1750), (9, 1751), (9, 1796), (9, 1880), (9, 1891), (9, 1906), (9, 1912), (9, 1936), (9, 1938), (9, 1949), (9, 1955), (9, 1993), (9, 2010), (9, 2033), (9, 2042), (9, 2062), (9, 2136), (9, 2139), (9, 2181), (9, 2242), (9, 2279), (9, 2284), (9, 2320), (9, 2332), (9, 2347), (9, 2362), (9, 2370), (9, 2379), (9, 2391), (9, 2412), (9, 2494), (9, 2504), (9, 2594), (9, 2596), (9, 2604), (9, 2608), (9, 2738), (9, 2879), (9, 3705), (9, 4234), (9, 4801), (9, 4817), (9, 4832), (9, 4844), (9, 4902), (9, 5041), (9, 5088), (9, 5129), (9, 5152), (9, 5282), (9, 5311), (9, 5402), (9, 5406), (9, 5407), (9, 5408), (9, 5409), (9, 5410), (9, 5411), (9, 5412), (9, 5413), (9, 5414), (9, 5415), (9, 5416), (9, 5417), (9, 5418), (9, 5419), (9, 5420), (9, 5421), (9, 5422), (9, 5423), (9, 5424), (9, 5425), (9, 5426), (9, 5427), (9, 5428), (9, 5429), (9, 5430), (9, 5431), (9, 5432), (9, 5433), (9, 5434), (9, 5435), (9, 5436), (9, 5437), (9, 5438), (9, 5439), (9, 5440), (10, 0), (10, 10), (10, 19), (10, 142), (10, 165), (10, 873), (10, 1107), (10, 1230), (10, 2566), (10, 2801), (10, 3765), (10, 5441), (10, 5442), (10, 5443), (10, 5444), (10, 5445), (10, 5446), (10, 5447), (10, 5448), (10, 5449), (10, 5450), (10, 5451), (10, 5452), (11, 0), (11, 5), (11, 8), (11, 9), (11, 11), (11, 49), (11, 86), (11, 93), (11, 96), (11, 100), (11, 106), (11, 116), (11, 154), (11, 178), (11, 188), (11, 195), (11, 199), (11, 226), (11, 285), (11, 286), (11, 324), (11, 342), (11, 398), (11, 399), (11, 405), (11, 406), (11, 408), (11, 413), (11, 421), (11, 508), (11, 531), (11, 533), (11, 538), (11, 558), (11, 583), (11, 601), (11, 604), (11, 697), (11, 844), (11, 891), (11, 898), (11, 978), (11, 1020), (11, 1070), (11, 1117), (11, 1180), (11, 1302), (11, 1329), (11, 1392), (11, 1398), (11, 1456), (11, 1489), (11, 1501), (11, 1509), (11, 1520), (11, 1531), (11, 1542), (11, 1592), (11, 1619), (11, 1631), (11, 1715), (11, 1723), (11, 1761), (11, 1811), (11, 1861), (11, 1865), (11, 1884), (11, 1893), (11, 1911), (11, 1971), (11, 2010), (11, 2067), (11, 2095), (11, 2220), (11, 2273), (11, 2283), (11, 2344), (11, 2362), (11, 2408), (11, 2413), (11, 2438), (11, 2488), (11, 2491), (11, 2495), (11, 2499), (11, 2500), (11, 2507), (11, 2509), (11, 2517), (11, 2519), (11, 2526), (11, 2529), (11, 2539), (11, 2540), (11, 2542), (11, 2559), (11, 2587), (11, 2626), (11, 2774), (11, 2788), (11, 2858), (11, 3280), (11, 4227), (11, 4805), (11, 4809), (11, 4823), (11, 4826), (11, 4827), (11, 4876), (11, 4902), (11, 4974), (11, 5016), (11, 5035), (11, 5123), (11, 5133), (11, 5137), (11, 5154), (11, 5156), (11, 5203), (11, 5211), (11, 5212), (11, 5283), (11, 5322), (11, 5351), (11, 5380), (11, 5395), (11, 5439), (11, 5453), (11, 5454), (11, 5455), (11, 5456), (11, 5457), (11, 5458), (11, 5459), (11, 5460), (11, 5461), (11, 5462), (11, 5463), (11, 5464), (11, 5465), (11, 5466), (11, 5467), (11, 5468), (11, 5469), (11, 5470), (11, 5471), (11, 5472), (11, 5473), (11, 5474), (11, 5475), (11, 5476), (11, 5477), (11, 5478), (11, 5479), (11, 5480), (11, 5481), (11, 5482), (11, 5483), (11, 5484), (11, 5485), (11, 5486), (11, 5487), (11, 5488), (11, 5489), (11, 5490), (11, 5491), (11, 5492), (11, 5493), (11, 5494), (11, 5495), (11, 5496), (11, 5497), (11, 5498), (11, 5499), (11, 5500), (11, 5501), (11, 5502), (11, 5503), (11, 5504), (11, 5505), (11, 5506), (11, 5507), (11, 5508), (11, 5509), (11, 5510), (11, 5511), (11, 5512), (11, 5513), (11, 5514), (11, 5515), (11, 5516), (11, 5517), (11, 5518), (11, 5519), (11, 5520), (11, 5521), (11, 5522), (11, 5523), (11, 5524), (11, 5525), (11, 5526), (11, 5527), (11, 5528), (11, 5529), (11, 5530), (11, 5531), (11, 5532), (11, 5533), (11, 5534), (11, 5535), (11, 5536), (11, 5537), (11, 5538), (11, 5539), (11, 5540), (11, 5541), (11, 5542), (11, 5543), (11, 5544), (11, 5545), (11, 5546), (11, 5547), (11, 5548), (11, 5549), (11, 5550), (11, 5551), (11, 5552), (11, 5553), (11, 5554), (11, 5555), (11, 5556), (11, 5557), (11, 5558), (11, 5559), (11, 5560), (11, 5561), (11, 5562), (11, 5563), (11, 5564), (11, 5565), (11, 5566), (11, 5567), (11, 5568), (11, 5569), (11, 5570), (11, 5571), (11, 5572), (11, 5573), (11, 5574), (11, 5575), (11, 5576), (11, 5577), (11, 5578), (11, 5579), (11, 5580), (11, 5581), (11, 5582), (11, 5583), (11, 5584), (11, 5585), (11, 5586), (11, 5587), (11, 5588), (11, 5589), (11, 5590), (11, 5591), (11, 5592), (11, 5593), (11, 5594), (11, 5595), (11, 5596), (11, 5597), (11, 5598), (11, 5599), (11, 5600), (11, 5601), (11, 5602), (11, 5603), (11, 5604), (11, 5605), (11, 5606), (11, 5607), (11, 5608), (11, 5609), (11, 5610), (11, 5611), (11, 5612), (11, 5613), (11, 5614), (11, 5615), (11, 5616), (11, 5617), (11, 5618), (11, 5619), (11, 5620), (11, 5621), (11, 5622), (11, 5623), (11, 5624), (11, 5625), (11, 5626), (11, 5627), (11, 5628), (11, 5629), (11, 5630), (11, 5631), (11, 5632), (11, 5633), (11, 5634), (11, 5635), (11, 5636), (11, 5637), (11, 5638), (11, 5639), (11, 5640), (11, 5641), (11, 5642), (11, 5643), (11, 5644), (11, 5645), (11, 5646), (11, 5647), (11, 5648), (11, 5649), (11, 5650), (11, 5651), (11, 5652), (11, 5653), (11, 5654), (11, 5655), (11, 5656), (12, 0), (12, 12), (12, 4865), (12, 4967), (12, 5657), (13, 0), (13, 13), (13, 265), (13, 1221), (13, 2850), (13, 3011), (13, 3063), (13, 3165), (13, 3483), (13, 4677), (13, 5269), (13, 5301), (13, 5658), (13, 5659), (13, 5660), (13, 5661), (13, 5662), (13, 5663), (13, 5664), (13, 5665), (13, 5666), (13, 5667), (13, 5668), (13, 5669), (13, 5670), (13, 5671), (13, 5672), (13, 5673), (13, 5674), (13, 5675), (13, 5676), (14, 0), (14, 8), (14, 14), (14, 17), (14, 37), (14, 87), (14, 167), (14, 189), (14, 215), (14, 398), (14, 405), (14, 408), (14, 1135), (14, 1287), (14, 1394), (14, 1528), (14, 1680), (14, 1836), (14, 1865), (14, 2438), (14, 2494), (14, 2513), (14, 2540), (14, 3185), (14, 4734), (14, 4805), (14, 4906), (14, 5527), (14, 5677), (14, 5678), (14, 5679), (14, 5680), (14, 5681), (14, 5682), (14, 5683), (14, 5684), (14, 5685), (14, 5686), (14, 5687), (14, 5688), (14, 5689), (14, 5690), (14, 5691), (14, 5692), (14, 5693), (14, 5694), (14, 5695), (14, 5696), (14, 5697), (14, 5698), (14, 5699), (14, 5700), (14, 5701), (14, 5702), (14, 5703), (14, 5704), (14, 5705), (14, 5706), (14, 5707), (14, 5708), (14, 5709), (14, 5710), (14, 5711), (14, 5712), (14, 5713), (14, 5714), (14, 5715), (14, 5716), (14, 5717), (14, 5718), (14, 5719), (14, 5720), (14, 5721), (14, 5722), (14, 5723), (14, 5724), (14, 5725), (14, 5726), (15, 0), (15, 5), (15, 15), (15, 60), (15, 136), (15, 169), (15, 178), (15, 180), (15, 196), (15, 208), (15, 336), (15, 385), (15, 410), (15, 418), (15, 606), (15, 620), (15, 651), (15, 765), (15, 838), (15, 1024), (15, 1118), (15, 1129), (15, 1153), (15, 1275), (15, 1340), (15, 1415), (15, 1545), (15, 1570), (15, 1576), (15, 1600), (15, 1834), (15, 1835), (15, 2010), (15, 2103), (15, 2226), (15, 2228), (15, 2434), (15, 2604), (15, 2699), (15, 2777), (15, 2800), (15, 2806), (15, 2811), (15, 3794), (15, 3811), (15, 4282), (15, 4316), (15, 4772), (15, 4808), (15, 4832), (15, 4858), (15, 4964), (15, 5034), (15, 5342), (15, 5727), (15, 5728), (15, 5729), (15, 5730), (15, 5731), (15, 5732), (15, 5733), (15, 5734), (15, 5735), (15, 5736), (15, 5737), (15, 5738), (15, 5739), (15, 5740), (15, 5741), (15, 5742), (15, 5743), (15, 5744), (15, 5745), (15, 5746), (15, 5747), (15, 5748), (15, 5749), (15, 5750), (15, 5751), (15, 5752), (15, 5753), (15, 5754), (15, 5755), (15, 5756), (15, 5757), (15, 5758), (15, 5759), (15, 5760), (15, 5761), (15, 5762), (15, 5763), (15, 5764), (15, 5765), (15, 5766), (15, 5767), (15, 5768), (15, 5769), (15, 5770), (15, 5771), (15, 5772), (16, 0), (16, 16), (16, 183), (16, 253), (16, 265), (16, 342), (16, 408), (16, 452), (16, 879), (16, 955), (16, 962), (16, 1067), (16, 1196), (16, 1439), (16, 1518), (16, 1651), (16, 1710), (16, 1723), (16, 1761), (16, 1971), (16, 1972), (16, 2006), (16, 2283), (16, 2310), (16, 2413), (16, 2506), (16, 2805), (16, 2949), (16, 2959), (16, 2960), (16, 3032), (16, 3482), (16, 4017), (16, 4564), (16, 4661), (16, 4760), (16, 4809), (16, 4824), (16, 5070), (16, 5160), (16, 5171), (16, 5253), (16, 5260), (16, 5281), (16, 5283), (16, 5285), (16, 5322), (16, 5383), (16, 5453), (16, 5490), (16, 5527), (16, 5538), (16, 5563), (16, 5564), (16, 5598), (16, 5607), (16, 5641), (16, 5662), (16, 5664), (16, 5685), (16, 5719), (16, 5773), (16, 5774), (16, 5775), (16, 5776), (16, 5777), (16, 5778), (16, 5779), (16, 5780), (16, 5781), (16, 5782), (16, 5783), (16, 5784), (16, 5785), (16, 5786), (16, 5787), (16, 5788), (16, 5789), (16, 5790), (16, 5791), (16, 5792), (16, 5793), (16, 5794), (16, 5795), (16, 5796), (16, 5797), (16, 5798), (16, 5799), (16, 5800), (16, 5801), (16, 5802), (16, 5803), (16, 5804), (16, 5805), (16, 5806), (16, 5807), (16, 5808), (16, 5809), (16, 5810), (16, 5811), (16, 5812), (16, 5813), (16, 5814), (16, 5815), (16, 5816), (16, 5817), (16, 5818), (16, 5819), (16, 5820), (16, 5821), (16, 5822), (16, 5823), (16, 5824), (16, 5825), (16, 5826), (16, 5827), (16, 5828), (16, 5829), (16, 5830), (16, 5831), (16, 5832), (16, 5833), (16, 5834), (16, 5835), (16, 5836), (16, 5837), (16, 5838), (16, 5839), (16, 5840), (16, 5841), (16, 5842), (16, 5843), (16, 5844), (16, 5845), (16, 5846), (16, 5847), (16, 5848), (16, 5849), (16, 5850), (16, 5851), (16, 5852), (16, 5853), (16, 5854), (16, 5855), (16, 5856), (16, 5857), (16, 5858), (16, 5859), (16, 5860), (16, 5861), (16, 5862), (16, 5863), (16, 5864), (16, 5865), (16, 5866), (16, 5867), (16, 5868), (16, 5869), (16, 5870), (16, 5871), (16, 5872), (16, 5873), (16, 5874), (16, 5875), (16, 5876), (16, 5877), (16, 5878), (16, 5879), (16, 5880), (16, 5881), (17, 0), (17, 3), (17, 8), (17, 9), (17, 14), (17, 17), (17, 21), (17, 26), (17, 27), (17, 28), (17, 29), (17, 30), (17, 34), (17, 36), (17, 37), (17, 38), (17, 39), (17, 41), (17, 43), (17, 50), (17, 52), (17, 53), (17, 54), (17, 55), (1\n\n*** WARNING: max output size exceeded, skipping output. ***\n\n, (81291, 81291), (81292, 72077), (81292, 81292), (81293, 72081), (81293, 81293), (81294, 72152), (81294, 81294), (81296, 72166), (81296, 81296), (81296, 82102), (81297, 72166), (81297, 81297), (81298, 72185), (81298, 81298), (81299, 72185), (81299, 81299), (81300, 72185), (81300, 81300), (81301, 72185), (81301, 81301), (81301, 81303), (81302, 72185), (81302, 76419), (81302, 81302), (81302, 81303), (81303, 72185), (81303, 76419), (81303, 81301), (81303, 81302), (81303, 81303), (81304, 72194), (81304, 72195), (81304, 81304), (81305, 72195), (81305, 81305), (81306, 72210), (81306, 81306), (81307, 72214), (81307, 81307), (81308, 72215), (81308, 81308), (81309, 72239), (81309, 81309), (81310, 72239), (81310, 81310), (81311, 72239), (81311, 81311), (81313, 81313), (81314, 72249), (81314, 81314), (81315, 72264), (81315, 81315), (81316, 72266), (81316, 81316), (81317, 72275), (81317, 81317), (81317, 82103), (81318, 72277), (81318, 81318), (81319, 72301), (81319, 81319), (81320, 72305), (81320, 81320), (81321, 72316), (81321, 81321), (81323, 72326), (81323, 81323), (81324, 72329), (81324, 81324), (81325, 72334), (81325, 72336), (81325, 81325), (81326, 72359), (81326, 81326), (81326, 82104), (81326, 82105), (81326, 82106), (81326, 82107), (81328, 72384), (81328, 81328), (81328, 82108), (81329, 72391), (81329, 81329), (81330, 72422), (81330, 81330), (81331, 72434), (81331, 81331), (81333, 72494), (81333, 81333), (81334, 72494), (81334, 81334), (81335, 72518), (81335, 81335), (81336, 72574), (81336, 81336), (81337, 72579), (81337, 81337), (81338, 72599), (81338, 81338), (81339, 72607), (81339, 81339), (81339, 82109), (81340, 72616), (81340, 81340), (81341, 72616), (81341, 81341), (81342, 72618), (81342, 81342), (81343, 72628), (81343, 81343), (81345, 72643), (81345, 81345), (81346, 72650), (81346, 81346), (81347, 72654), (81347, 81347), (81348, 72661), (81348, 81348), (81349, 18109), (81349, 72661), (81349, 72662), (81349, 81349), (81350, 72662), (81350, 81350), (81352, 72704), (81352, 81352), (81353, 72704), (81353, 81353), (81354, 72704), (81354, 81354), (81355, 72704), (81355, 81355), (81357, 72705), (81357, 81357), (81359, 72711), (81359, 81359), (81360, 72719), (81360, 81360), (81361, 72729), (81361, 81361), (81363, 72789), (81363, 81363), (81364, 72795), (81364, 81364), (81365, 72800), (81365, 81365), (81366, 72800), (81366, 81366), (81368, 72812), (81368, 81368), (81370, 81370), (81372, 72841), (81372, 81372), (81373, 72887), (81373, 81373), (81374, 72887), (81374, 81374), (81374, 82110), (81375, 72916), (81375, 81375), (81376, 72921), (81376, 81376), (81377, 72938), (81377, 81377), (81379, 73037), (81379, 81379), (81380, 73044), (81380, 81380), (81382, 11994), (81382, 73069), (81382, 81382), (81383, 73074), (81383, 81383), (81384, 73074), (81384, 81384), (81385, 73089), (81385, 81385), (81386, 73141), (81386, 81386), (81387, 73162), (81387, 81387), (81387, 82111), (81388, 6190), (81388, 73165), (81388, 81388), (81390, 73187), (81390, 81390), (81391, 73189), (81391, 81391), (81391, 82112), (81392, 73206), (81392, 81392), (81393, 73206), (81393, 81393), (81393, 82113), (81393, 82114), (81394, 73215), (81394, 81394), (81396, 73278), (81396, 81396), (81396, 82115), (81398, 73299), (81398, 81398), (81400, 73306), (81400, 81400), (81401, 73322), (81401, 81401), (81402, 73340), (81402, 81402), (81403, 3392), (81403, 3483), (81403, 6386), (81403, 73345), (81403, 81403), (81405, 73361), (81405, 81405), (81406, 73361), (81406, 81406), (81406, 82116), (81408, 73387), (81408, 81408), (81409, 73392), (81409, 81409), (81409, 82117), (81410, 73393), (81410, 81410), (81411, 73409), (81411, 81411), (81413, 73447), (81413, 81413), (81415, 73456), (81415, 81415), (81416, 73457), (81416, 81416), (81416, 82118), (81417, 73481), (81417, 81417), (81418, 73481), (81418, 81418), (81419, 73497), (81419, 81419), (81421, 73522), (81421, 81421), (81423, 73543), (81423, 81423), (81424, 73548), (81424, 81424), (81426, 73558), (81426, 81426), (81428, 82119), (81428, 82120), (81431, 73623), (81431, 81431), (81431, 82121), (81432, 73700), (81432, 81432), (81433, 73705), (81433, 81433), (81434, 73710), (81434, 81434), (81435, 73721), (81435, 81435), (81436, 73724), (81436, 81436), (81436, 82122), (81437, 73737), (81437, 81437), (81438, 73752), (81438, 81438), (81443, 73834), (81443, 81443), (81446, 73837), (81446, 81446), (81447, 73866), (81447, 81447), (81449, 73906), (81449, 81449), (81450, 73961), (81450, 81450), (81451, 73961), (81451, 81451), (81451, 82123), (81452, 73962), (81452, 81452), (81453, 73979), (81453, 81453), (81454, 73985), (81454, 81454), (81454, 81455), (81455, 73985), (81455, 81454), (81455, 81455), (81456, 74019), (81456, 81456), (81457, 74044), (81457, 81457), (81458, 81458), (81459, 74079), (81459, 81459), (81460, 74102), (81460, 81460), (81461, 74102), (81461, 81461), (81464, 74110), (81464, 81464), (81465, 74110), (81465, 81465), (81466, 74127), (81466, 81466), (81469, 74176), (81469, 81469), (81470, 74181), (81470, 81470), (81471, 74185), (81471, 81471), (81472, 74201), (81472, 81472), (81475, 74249), (81475, 81475), (81476, 34064), (81476, 74259), (81476, 81476), (81477, 74291), (81477, 81477), (81479, 81479), (81480, 74330), (81480, 81480), (81480, 82124), (81481, 74336), (81481, 81481), (81482, 81482), (81483, 74340), (81483, 81483), (81484, 74361), (81484, 81484), (81485, 74373), (81485, 81485), (81487, 74382), (81487, 81487), (81488, 74382), (81488, 81488), (81489, 74398), (81489, 81489), (81491, 74427), (81491, 81491), (81492, 74468), (81492, 81492), (81493, 74489), (81493, 81493), (81493, 81494), (81494, 74489), (81494, 74490), (81494, 81493), (81494, 81494), (81496, 74513), (81496, 81496), (81497, 74543), (81497, 81497), (81497, 82125), (81498, 74543), (81498, 81498), (81499, 74557), (81499, 81499), (81500, 74566), (81500, 81500), (81501, 74637), (81501, 81501), (81502, 74678), (81502, 81502), (81503, 74691), (81503, 81503), (81503, 82126), (81504, 74709), (81504, 81504), (81504, 82127), (81505, 74723), (81505, 81505), (81505, 82128), (81506, 74725), (81506, 81506), (81508, 74728), (81508, 74729), (81508, 81508), (81510, 74734), (81510, 81510), (81511, 74758), (81511, 81511), (81512, 81512), (81514, 74801), (81514, 81514), (81516, 74827), (81516, 76846), (81516, 81516), (81517, 74837), (81517, 81517), (81518, 45218), (81518, 74840), (81518, 81518), (81519, 74841), (81519, 81519), (81521, 74855), (81521, 81521), (81523, 74886), (81523, 81523), (81524, 74896), (81524, 81524), (81525, 74901), (81525, 81525), (81526, 74915), (81526, 81526), (81527, 74915), (81527, 81527), (81528, 74923), (81528, 81528), (81530, 81530), (81531, 81531), (81532, 81532), (81533, 74971), (81533, 81533), (81534, 74981), (81534, 81534), (81535, 74982), (81535, 81535), (81536, 74988), (81536, 81536), (81537, 74999), (81537, 81537), (81538, 74999), (81538, 75000), (81538, 81538), (81539, 74999), (81539, 81539), (81540, 74999), (81540, 81540), (81541, 74999), (81541, 75000), (81541, 81541), (81542, 74999), (81542, 81542), (81543, 74999), (81543, 81543), (81544, 74999), (81544, 75000), (81544, 81544), (81544, 82129), (81544, 82130), (81545, 74999), (81545, 81545), (81546, 74999), (81546, 81546), (81547, 74999), (81547, 75000), (81547, 81547), (81548, 74999), (81548, 75000), (81548, 81548), (81549, 74999), (81549, 75000), (81549, 81549), (81551, 75017), (81551, 81551), (81551, 82131), (81552, 75034), (81552, 81552), (81553, 75034), (81553, 81553), (81554, 75044), (81554, 81554), (81556, 75056), (81556, 81556), (81557, 75075), (81557, 81557), (81558, 75086), (81558, 81558), (81559, 75104), (81559, 81559), (81560, 75111), (81560, 81560), (81561, 75132), (81561, 81561), (81562, 75179), (81562, 81562), (81563, 75180), (81563, 81563), (81565, 75194), (81565, 81565), (81566, 75196), (81566, 81566), (81567, 75196), (81567, 81567), (81568, 75200), (81568, 81568), (81569, 75223), (81569, 81569), (81570, 75239), (81570, 81570), (81571, 81571), (81572, 75253), (81572, 81572), (81574, 75298), (81574, 81574), (81575, 75298), (81575, 81575), (81576, 75311), (81576, 81576), (81577, 75313), (81577, 81577), (81577, 81578), (81578, 75313), (81578, 81577), (81578, 81578), (81579, 5362), (81579, 75351), (81579, 81579), (81580, 75388), (81580, 81580), (81581, 75391), (81581, 81581), (81582, 75391), (81582, 81582), (81583, 75392), (81583, 81583), (81584, 75393), (81584, 81584), (81585, 75403), (81585, 75404), (81585, 81585), (81586, 75407), (81586, 81586), (81587, 75407), (81587, 81587), (81588, 75407), (81588, 81588), (81589, 75419), (81589, 81589), (81590, 75448), (81590, 81590), (81591, 75521), (81591, 81591), (81592, 75528), (81592, 81592), (81593, 75548), (81593, 81593), (81594, 75556), (81594, 81594), (81595, 75564), (81595, 81595), (81597, 75584), (81597, 81597), (81597, 81599), (81598, 75584), (81598, 81598), (81599, 75584), (81599, 81597), (81599, 81599), (81600, 75607), (81600, 81600), (81601, 75620), (81601, 81601), (81602, 75625), (81602, 75626), (81602, 81602), (81603, 75639), (81603, 81603), (81604, 75641), (81604, 81604), (81605, 75649), (81605, 81605), (81606, 75677), (81606, 81606), (81607, 75724), (81607, 75725), (81607, 75726), (81607, 75727), (81607, 81607), (81608, 75739), (81608, 81608), (81609, 75739), (81609, 81609), (81610, 75742), (81610, 81610), (81611, 75770), (81611, 81611), (81612, 75851), (81612, 81612), (81614, 75871), (81614, 81614), (81615, 75872), (81615, 81615), (81616, 75875), (81616, 81616), (81617, 75896), (81617, 81617), (81618, 75901), (81618, 81618), (81619, 75907), (81619, 81619), (81620, 45331), (81620, 75907), (81620, 81620), (81621, 75932), (81621, 81621), (81622, 81622), (81624, 75963), (81624, 81624), (81626, 75966), (81626, 81626), (81629, 81629), (81630, 76026), (81630, 81630), (81630, 81631), (81630, 81632), (81630, 82132), (81631, 76026), (81631, 81630), (81631, 81631), (81631, 81632), (81632, 76026), (81632, 81630), (81632, 81631), (81632, 81632), (81633, 81633), (81634, 81634), (81635, 76046), (81635, 81635), (81636, 76088), (81636, 81636), (81637, 76092), (81637, 81637), (81638, 76109), (81638, 81638), (81639, 76109), (81639, 81639), (81640, 76142), (81640, 81640), (81641, 76145), (81641, 81641), (81642, 76148), (81642, 81642), (81643, 76162), (81643, 81643), (81644, 76164), (81644, 81644), (81644, 82133), (81645, 76180), (81645, 81645), (81646, 76182), (81646, 81646), (81647, 76192), (81647, 81647), (81648, 76196), (81648, 81648), (81649, 76196), (81649, 81649), (81650, 76196), (81650, 81650), (81651, 76213), (81651, 81651), (81652, 76237), (81652, 81652), (81654, 76248), (81654, 81654), (81654, 82134), (81655, 76256), (81655, 81655), (81656, 76279), (81656, 81656), (81658, 76329), (81658, 81658), (81659, 76333), (81659, 81659), (81660, 81660), (81661, 76363), (81661, 81661), (81662, 81662), (81665, 3413), (81665, 3457), (81665, 5049), (81665, 5652), (81665, 9085), (81665, 9190), (81665, 12110), (81665, 12896), (81665, 14882), (81665, 15583), (81665, 19530), (81665, 23099), (81665, 38668), (81665, 76391), (81666, 76398), (81666, 81666), (81667, 76410), (81667, 81667), (81668, 76416), (81668, 76417), (81668, 81668), (81669, 76434), (81669, 76436), (81669, 81669), (81670, 76446), (81670, 81670), (81672, 76496), (81672, 81672), (81673, 76496), (81673, 81673), (81674, 76523), (81674, 81674), (81675, 76531), (81675, 81675), (81676, 76535), (81676, 81676), (81678, 81678), (81679, 76560), (81679, 81679), (81680, 76560), (81680, 81680), (81681, 76595), (81681, 81681), (81682, 76599), (81682, 81682), (81684, 76601), (81684, 81684), (81685, 76630), (81685, 81685), (81686, 76640), (81686, 81686), (81687, 76642), (81687, 81687), (81688, 76642), (81688, 81688), (81689, 76642), (81689, 81689), (81690, 76642), (81690, 81690), (81691, 76642), (81691, 81691), (81692, 76642), (81692, 81692), (81693, 76667), (81693, 81693), (81694, 76708), (81694, 81694), (81696, 76716), (81696, 81696), (81696, 81697), (81697, 76716), (81697, 81696), (81697, 81697), (81698, 76772), (81698, 81698), (81699, 76818), (81699, 81699), (81700, 6491), (81700, 76818), (81700, 81700), (81702, 76875), (81702, 81702), (81703, 76882), (81703, 81703), (81704, 6295), (81704, 76893), (81704, 81704), (81705, 76900), (81705, 81705), (81706, 76920), (81706, 81706), (81706, 82135), (81707, 76930), (81707, 81707), (81709, 76943), (81709, 81709), (81709, 81710), (81710, 76943), (81710, 81709), (81710, 81710), (81711, 76943), (81711, 81711), (81712, 76960), (81712, 81712), (81713, 76960), (81713, 81713), (81714, 76964), (81714, 81714), (81716, 77001), (81716, 81716), (81717, 77022), (81717, 81717), (81718, 77031), (81718, 81718), (81720, 77031), (81720, 81720), (81721, 77070), (81721, 81721), (81722, 77075), (81722, 81722), (81723, 77080), (81723, 81723), (81724, 77080), (81724, 81724), (81728, 77165), (81728, 81728), (81730, 77171), (81730, 81730), (81731, 77175), (81731, 81731), (81733, 77185), (81733, 81733), (81734, 77185), (81734, 81734), (81735, 77185), (81735, 81735), (81736, 77188), (81736, 81736), (81737, 81737), (81738, 81738), (81739, 77193), (81739, 81739), (81740, 77215), (81740, 81740), (81741, 77216), (81741, 81741), (81742, 77221), (81742, 81742), (81743, 77227), (81743, 81743), (81744, 77282), (81744, 81744), (81746, 77308), (81746, 81746), (81750, 77329), (81750, 81750), (81751, 77329), (81751, 81751), (81752, 77330), (81752, 81752), (81753, 77331), (81753, 81753), (81755, 81755), (81756, 77347), (81756, 81756), (81759, 77379), (81759, 81759), (81760, 77391), (81760, 81760), (81762, 77427), (81762, 81762), (81763, 77428), (81763, 81763), (81765, 77428), (81765, 81765), (81767, 77430), (81767, 81767), (81768, 77443), (81768, 77444), (81768, 81768), (81772, 77489), (81772, 81772), (81773, 77495), (81773, 81773), (81773, 82136), (81775, 81775), (81777, 77516), (81777, 81777), (81778, 77551), (81778, 81778), (81779, 81779), (81780, 77579), (81780, 81780), (81781, 5717), (81781, 54837), (81781, 77581), (81781, 81781), (81782, 77596), (81782, 81782), (81784, 77628), (81784, 81784), (81785, 77635), (81785, 81785), (81785, 81786), (81786, 77635), (81786, 81785), (81786, 81786), (81787, 77660), (81787, 81787), (81788, 77666), (81788, 81788), (81789, 77676), (81789, 81789), (81790, 77702), (81790, 81790), (81790, 82137), (81792, 77738), (81792, 81792), (81793, 77742), (81793, 81793), (81794, 77745), (81794, 81794), (81796, 77758), (81796, 81796), (81797, 77758), (81797, 81797), (81798, 77758), (81798, 81798), (81799, 77758), (81799, 81799), (81800, 77777), (81800, 81800), (81801, 77778), (81801, 81801), (81802, 77823), (81802, 81802), (81802, 82138), (81803, 77826), (81803, 81803), (81805, 81805), (81806, 77905), (81806, 81806), (81807, 77955), (81807, 81807), (81808, 77995), (81808, 81808), (81810, 78022), (81810, 81810), (81812, 78053), (81812, 81812), (81813, 78056), (81813, 81813), (81814, 78079), (81814, 81814), (81815, 78083), (81815, 81815), (81816, 78101), (81816, 81816), (81817, 78102), (81817, 81817), (81819, 78125), (81819, 81819), (81820, 504), (81820, 78132), (81820, 81820), (81821, 78143), (81821, 81821), (81822, 78147), (81822, 78148), (81822, 81822), (81824, 78168), (81824, 81824), (81825, 78168), (81825, 81825), (81827, 78201), (81827, 81827), (81829, 78215), (81829, 81829), (81830, 81830), (81832, 81832), (81834, 78251), (81834, 81834), (81835, 78268), (81835, 81835), (81836, 78268), (81836, 81836), (81837, 78282), (81837, 81837), (81839, 78315), (81839, 81839), (81840, 78381), (81840, 81840), (81841, 78386), (81841, 81841), (81842, 78392), (81842, 81842), (81843, 78392), (81843, 81843), (81845, 78407), (81845, 81845), (81846, 78409), (81846, 81846), (81847, 78414), (81847, 81847), (81848, 78421), (81848, 81848), (81849, 81849), (81850, 78485), (81850, 81850), (81851, 78520), (81851, 81851), (81852, 78521), (81852, 81852), (81853, 78541), (81853, 81853), (81854, 78553), (81854, 81854), (81855, 81855), (81857, 78592), (81857, 81857), (81858, 78622), (81858, 81858), (81859, 78703), (81859, 81859), (81860, 78710), (81860, 81860), (81861, 78710), (81861, 81861), (81862, 78713), (81862, 81862), (81865, 78743), (81865, 81865), (81866, 78748), (81866, 81866), (81866, 82139), (81867, 78760), (81867, 81867), (81868, 78765), (81868, 80462), (81868, 81868), (81870, 78787), (81870, 81870), (81871, 78850), (81871, 81871), (81872, 78852), (81872, 81872), (81873, 78852), (81873, 81873), (81875, 78885), (81875, 81875), (81876, 78905), (81876, 81876), (81877, 78914), (81877, 81877), (81877, 82140), (81878, 78928), (81878, 81878), (81878, 81879), (81879, 78928), (81879, 81878), (81879, 81879), (81880, 78928), (81880, 81880), (81881, 78928), (81881, 81881), (81884, 78969), (81884, 81884), (81885, 78979), (81885, 81885), (81887, 78987), (81887, 81887), (81888, 6717), (81888, 51633), (81888, 78993), (81889, 79005), (81889, 81889), (81889, 82141), (81890, 81890), (81891, 79036), (81891, 81891), (81891, 81892), (81892, 79036), (81892, 81891), (81892, 81892), (81893, 79044), (81893, 81893), (81895, 30323), (81895, 79058), (81895, 81895), (81897, 79087), (81897, 81897), (81898, 79090), (81898, 81898), (81899, 79111), (81899, 81899), (81899, 82142), (81900, 79137), (81900, 80475), (81900, 81900), (81901, 79153), (81901, 81901), (81902, 79160), (81902, 81902), (81903, 79160), (81903, 81903), (81904, 79164), (81904, 81904), (81905, 79166), (81905, 81905), (81906, 3457), (81906, 6400), (81906, 8569), (81906, 19912), (81906, 79166), (81906, 81906), (81907, 79175), (81907, 81907), (81908, 79202), (81908, 81908), (81909, 79214), (81909, 81909), (81910, 79218), (81910, 81910), (81912, 8199), (81912, 53708), (81912, 79229), (81913, 79234), (81913, 81913), (81915, 79237), (81915, 81915), (81916, 79239), (81916, 81916), (81918, 79244), (81918, 79245), (81918, 81918), (81919, 79249), (81919, 81919), (81920, 79249), (81920, 81920), (81921, 79249), (81921, 81921), (81922, 79249), (81922, 81922), (81923, 12515), (81923, 17146), (81923, 79249), (81923, 81923), (81924, 79254), (81924, 81924), (81924, 82143), (81925, 79259), (81925, 81925), (81925, 82144), (81926, 79270), (81926, 81926), (81927, 81927), (81928, 81928), (81929, 79296), (81929, 81929), (81931, 79348), (81931, 81931), (81932, 79377), (81932, 81932), (81934, 79386), (81934, 81934), (81935, 79392), (81935, 81935), (81937, 79395), (81937, 81937), (81938, 79396), (81938, 81938), (81940, 79422), (81940, 81940), (81941, 79422), (81941, 81941), (81942, 79450), (81942, 81942), (81942, 82145), (81942, 82146), (81943, 79455), (81943, 81943), (81945, 5394), (81945, 79498), (81945, 81945), (81948, 79564), (81948, 81948), (81949, 79568), (81949, 81949), (81950, 79636), (81950, 79637), (81950, 81950), (81951, 79651), (81951, 81951), (81953, 79651), (81953, 81953), (81954, 79668), (81954, 81954), (81955, 79688), (81955, 81955), (81956, 79714), (81956, 81956), (81958, 79743), (81958, 81958), (81959, 79758), (81959, 81959), (81961, 79791), (81961, 79792), (81961, 81961), (81962, 81962), (81963, 79798), (81963, 81963), (81964, 79828), (81964, 81964), (81965, 79828), (81965, 81965), (81966, 79829), (81966, 81966), (81966, 82147), (81967, 79835), (81967, 81967), (81968, 79841), (81968, 81968), (81969, 79853), (81969, 81969), (81972, 79876), (81972, 81972), (81973, 79886), (81973, 81973), (81974, 79891), (81974, 81974), (81975, 79903), (81975, 81975), (81975, 82148), (81975, 82149), (81976, 79910), (81976, 81976), (81977, 79918), (81977, 81977), (81978, 79977), (81978, 81978), (81978, 82150), (81979, 79986), (81979, 81979), (81980, 79987), (81980, 81980), (81980, 82151), (81981, 80010), (81981, 81981), (81983, 80033), (81983, 81983), (81985, 80049), (81985, 81985), (81985, 82152), (81985, 82153), (81985, 82154), (81986, 80060), (81986, 81986), (81987, 80060), (81987, 81987), (81987, 82155), (81988, 80088), (81988, 81988), (81989, 48878), (81989, 80098), (81989, 81989), (81990, 2488), (81990, 8818), (81990, 12472), (81990, 13690), (81990, 74105), (81990, 80102), (81990, 81990), (81990, 82156), (81991, 80110), (81991, 81991), (81992, 80114), (81992, 81992), (81994, 80146), (81994, 81994), (81995, 80146), (81995, 81995), (81996, 80149), (81996, 81996), (81996, 82157), (81997, 80169), (81997, 80170), (81997, 80172), (81997, 81997), (81998, 80170), (81998, 81998), (81999, 80177), (81999, 81999), (82000, 80179), (82000, 82000), (82001, 82001), (82002, 80184), (82002, 82002), (82003, 80194), (82003, 82003), (82004, 80208), (82004, 82004), (82005, 80211), (82005, 82005), (82006, 80226), (82006, 82006), (82007, 80242), (82007, 80244), (82007, 82007), (82008, 80250), (82008, 82008), (82009, 80251), (82009, 82009), (82010, 80257), (82010, 82010), (82010, 82158), (82011, 80268), (82011, 82011), (82013, 80278), (82013, 82013), (82014, 80321), (82014, 82014), (82014, 82159), (82014, 82160), (82016, 80349), (82016, 82016), (82016, 82161), (82017, 80349), (82017, 82017), (82018, 80349), (82018, 82017), (82019, 80350), (82019, 82019), (82020, 80355), (82020, 82020), (82021, 80355), (82021, 82021), (82022, 80366), (82022, 82022), (82023, 80376), (82023, 82023), (82023, 82162), (82024, 80398), (82024, 82024), (82025, 82025), (82026, 82026), (82027, 80428), (82027, 82027), (82028, 80431), (82028, 82028), (82029, 80431), (82029, 82029), (82030, 80431), (82030, 82030), (82031, 80440), (82031, 82031), (82032, 80440), (82032, 80441), (82032, 82032), (82033, 80441), (82033, 82033), (82035, 80485), (82035, 82035), (82037, 80511), (82037, 82037), (82038, 80516), (82038, 82038), (82039, 80522), (82039, 82039), (82040, 80541), (82040, 82040), (82041, 82041), (82042, 80554), (82042, 82042), (82044, 82044), (82045, 82045), (82046, 80557), (82046, 80559), (82046, 82046), (82047, 82047), (82048, 82048), (82049, 82049), (82049, 82050), (82050, 15213), (82050, 64665), (82050, 80557), (82050, 80558), (82050, 80559), (82050, 80560), (82050, 80561), (82050, 80562), (82050, 80563), (82050, 80564), (82053, 1703), (82053, 80607), (82053, 82053), (82055, 80648), (82055, 82055), (82056, 80660), (82056, 82056), (82058, 80698), (82058, 82058), (82060, 80729), (82060, 82060), (82061, 80751), (82061, 82061), (82062, 80761), (82062, 82062), (82064, 80767), (82064, 80768), (82064, 82064), (82065, 80797), (82065, 82065), (82066, 80797), (82066, 82066), (82067, 80808), (82067, 82067), (82067, 82163), (82068, 80819), (82068, 82068), (82069, 80826), (82069, 82069), (82070, 80844), (82070, 80845), (82070, 82070), (82071, 80859), (82071, 82071), (82072, 80859), (82072, 82072), (82073, 80916), (82073, 82073), (82073, 82164), (82074, 80938), (82074, 82074), (82075, 80942), (82075, 82075), (82076, 80966), (82076, 82076), (82077, 80974), (82077, 82077), (82078, 80974), (82078, 80975), (82078, 82078), (82080, 80991), (82080, 82080), (82081, 81000), (82081, 82081), (82082, 81020), (82082, 82082), (82086, 81132), (82086, 82086), (82091, 81168), (82091, 82091), (82092, 81177), (82092, 82092), (82094, 81187), (82094, 82094), (82095, 5402), (82095, 81197), (82095, 82095), (82096, 82096), (82097, 81235), (82097, 82097), (82098, 81250), (82098, 82098), (82099, 81258), (82099, 82099), (82100, 81261), (82100, 82100), (82102, 81296), (82102, 82102), (82103, 81317), (82103, 82103), (82104, 81326), (82104, 82104), (82107, 81326), (82107, 82107), (82109, 81339), (82109, 82109), (82110, 81374), (82110, 82110), (82111, 81387), (82111, 82111), (82112, 81391), (82112, 82112), (82113, 81393), (82113, 82113), (82114, 81393), (82114, 82114), (82115, 81396), (82115, 82115), (82116, 81406), (82116, 82116), (82119, 82119), (82119, 82120), (82120, 82119), (82120, 82120), (82122, 81436), (82122, 82122), (82123, 81451), (82123, 82123), (82124, 81480), (82124, 82124), (82125, 81497), (82125, 82125), (82126, 81503), (82126, 82126), (82127, 81504), (82127, 82127), (82128, 81505), (82128, 82128), (82129, 81544), (82129, 82129), (82130, 33761), (82130, 74999), (82130, 75000), (82130, 81538), (82130, 81541), (82130, 81544), (82130, 81547), (82130, 81548), (82130, 81549), (82130, 81550), (82131, 81551), (82131, 82131), (82131, 82165), (82131, 82166), (82132, 81630), (82132, 82132), (82133, 81644), (82133, 82133), (82134, 81654), (82134, 82134), (82135, 81706), (82135, 82135), (82136, 81773), (82136, 82136), (82137, 81790), (82137, 82137), (82139, 82139), (82140, 81877), (82140, 82140), (82141, 81889), (82141, 82141), (82143, 81924), (82143, 82143), (82144, 81925), (82144, 82144), (82145, 81942), (82145, 82145), (82146, 81942), (82146, 82146), (82147, 81966), (82147, 82147), (82148, 81975), (82148, 82148), (82149, 81975), (82149, 82149), (82150, 81978), (82150, 82150), (82151, 81980), (82151, 82151), (82152, 81985), (82152, 82152), (82153, 81985), (82153, 82153), (82154, 81985), (82154, 82154), (82155, 81987), (82155, 82155), (82156, 82156), (82157, 81996), (82157, 82157), (82158, 82010), (82158, 82158), (82159, 82014), (82159, 82159), (82160, 82014), (82160, 82160), (82161, 82016), (82161, 82161), (82164, 82073), (82164, 82164), (82164, 82167), (82165, 82131), (82165, 82165), (82165, 82166), (82166, 82131), (82166, 82165), (82166, 82166)]\n"
     ]
    }
   ],
   "source": [
    "print(edges)"
   ]
  },
  {
   "cell_type": "code",
   "execution_count": 0,
   "metadata": {
    "application/vnd.databricks.v1+cell": {
     "cellMetadata": {
      "byteLimit": 2048000,
      "rowLimit": 10000
     },
     "inputWidgets": {},
     "nuid": "a87a3349-efee-4934-b047-09a2bddf2d12",
     "showTitle": false,
     "tableResultSettingsMap": {},
     "title": ""
    }
   },
   "outputs": [],
   "source": [
    "v = sqlContext.createDataFrame(verti,[\"id\",\"name\"])\n",
    "e = sqlContext.createDataFrame(edges,[\"src\",\"dst\"])\n",
    "g = GraphFrame(v,e)"
   ]
  },
  {
   "cell_type": "code",
   "execution_count": 0,
   "metadata": {
    "application/vnd.databricks.v1+cell": {
     "cellMetadata": {
      "byteLimit": 2048000,
      "rowLimit": 10000
     },
     "inputWidgets": {},
     "nuid": "33f28826-e398-4ab8-8869-80b92036556e",
     "showTitle": false,
     "tableResultSettingsMap": {},
     "title": ""
    }
   },
   "outputs": [],
   "source": [
    "import pyspark.sql.functions as sf\n",
    "from pyspark.sql.functions import desc"
   ]
  },
  {
   "cell_type": "code",
   "execution_count": 0,
   "metadata": {
    "application/vnd.databricks.v1+cell": {
     "cellMetadata": {
      "byteLimit": 2048000,
      "rowLimit": 10000
     },
     "inputWidgets": {},
     "nuid": "564a3421-1bb8-48d4-bdf5-54b99d33a187",
     "showTitle": false,
     "tableResultSettingsMap": {},
     "title": ""
    }
   },
   "outputs": [
    {
     "output_type": "stream",
     "name": "stdout",
     "output_type": "stream",
     "text": [
      "+----+---------+\n|  id|OutDegree|\n+----+---------+\n|2494|     2511|\n|4805|     2248|\n| 398|     2209|\n| 381|     1851|\n| 226|     1701|\n+----+---------+\nonly showing top 5 rows\n\n"
     ]
    }
   ],
   "source": [
    "# highest number of outdegrees\n",
    "joined = g.edges.join(g.vertices,g.edges.src==g.vertices.id)\n",
    "joined.groupBy(\"id\").agg(sf.count(\"id\").alias(\"OutDegree\")).orderBy(desc(\"OutDegree\")).show(5)"
   ]
  },
  {
   "cell_type": "code",
   "execution_count": 0,
   "metadata": {
    "application/vnd.databricks.v1+cell": {
     "cellMetadata": {
      "byteLimit": 2048000,
      "rowLimit": 10000
     },
     "inputWidgets": {},
     "nuid": "b1027372-383c-4db7-8d55-07e793873c67",
     "showTitle": false,
     "tableResultSettingsMap": {},
     "title": ""
    }
   },
   "outputs": [
    {
     "output_type": "stream",
     "name": "stdout",
     "output_type": "stream",
     "text": [
      "+----+--------+\n|  id|InDegree|\n+----+--------+\n|2494|    2553|\n| 398|    2355|\n|4805|    2292|\n| 381|    1862|\n| 226|    1729|\n+----+--------+\nonly showing top 5 rows\n\n"
     ]
    }
   ],
   "source": [
    "# highest number of outdegrees\n",
    "joined = g.edges.join(g.vertices,g.edges.dst==g.vertices.id)\n",
    "joined.groupBy(\"id\").agg(sf.count(\"id\").alias(\"InDegree\")).orderBy(desc(\"InDegree\")).show(5)"
   ]
  },
  {
   "cell_type": "code",
   "execution_count": 0,
   "metadata": {
    "application/vnd.databricks.v1+cell": {
     "cellMetadata": {
      "byteLimit": 2048000,
      "rowLimit": 10000
     },
     "inputWidgets": {},
     "nuid": "b5f42d04-f389-41dc-85b7-56052d09a0fa",
     "showTitle": false,
     "tableResultSettingsMap": {},
     "title": ""
    }
   },
   "outputs": [],
   "source": [
    "wow = {}\n",
    "for (x,y) in edges:\n",
    "  if x not in wow.keys():\n",
    "    wow[x] = 1\n",
    "  else:\n",
    "    wow[x] = wow[x]+1\n",
    "\n",
    "wow2 = {}\n",
    "for (x,y) in edges:\n",
    "  if y not in wow2.keys():\n",
    "    wow2[y] = 1\n",
    "  else:\n",
    "    wow2[y] = wow2[y]+1"
   ]
  },
  {
   "cell_type": "code",
   "execution_count": 0,
   "metadata": {
    "application/vnd.databricks.v1+cell": {
     "cellMetadata": {
      "byteLimit": 2048000,
      "rowLimit": 10000
     },
     "inputWidgets": {},
     "nuid": "dc7febab-e44f-476d-8e49-104eb041e652",
     "showTitle": false,
     "tableResultSettingsMap": {},
     "title": ""
    }
   },
   "outputs": [],
   "source": [
    "lol = sorted(wow, key=wow.get,reverse=True)\n",
    "lol2 = sorted(wow2, key=wow2.get,reverse=True)"
   ]
  },
  {
   "cell_type": "code",
   "execution_count": 0,
   "metadata": {
    "application/vnd.databricks.v1+cell": {
     "cellMetadata": {
      "byteLimit": 2048000,
      "rowLimit": 10000
     },
     "inputWidgets": {},
     "nuid": "6bdac749-a9c2-434d-936b-865db1c86353",
     "showTitle": false,
     "tableResultSettingsMap": {},
     "title": ""
    }
   },
   "outputs": [
    {
     "output_type": "stream",
     "name": "stdout",
     "output_type": "stream",
     "text": [
      "[2494, 4805, 398, 381, 226]\n[2494, 398, 4805, 381, 226]\n"
     ]
    }
   ],
   "source": [
    "print(lol[0:5])\n",
    "print(lol2[0:5])"
   ]
  },
  {
   "cell_type": "code",
   "execution_count": 0,
   "metadata": {
    "application/vnd.databricks.v1+cell": {
     "cellMetadata": {
      "byteLimit": 2048000,
      "rowLimit": 10000
     },
     "inputWidgets": {},
     "nuid": "3b18372d-4358-472d-b973-220bd0823ac4",
     "showTitle": false,
     "tableResultSettingsMap": {},
     "title": ""
    }
   },
   "outputs": [
    {
     "output_type": "stream",
     "name": "stdout",
     "output_type": "stream",
     "text": [
      "+----+------------------+\n|  id|          pagerank|\n+----+------------------+\n|2494| 174.4126437635856|\n| 398|161.18554437568335|\n| 381| 149.4883133104948|\n|4805|117.83154667106953|\n|  37|117.31683224809746|\n+----+------------------+\nonly showing top 5 rows\n\n"
     ]
    }
   ],
   "source": [
    "results = g.pageRank(maxIter = 20)\n",
    "results.vertices.orderBy(desc(\"pagerank\")).select(\"id\",\"pagerank\").show(5)"
   ]
  },
  {
   "cell_type": "code",
   "execution_count": 0,
   "metadata": {
    "application/vnd.databricks.v1+cell": {
     "cellMetadata": {
      "byteLimit": 2048000,
      "rowLimit": 10000
     },
     "inputWidgets": {},
     "nuid": "7737c4d0-222c-48c3-b4d2-bb3c66b0ffdf",
     "showTitle": false,
     "tableResultSettingsMap": {},
     "title": ""
    }
   },
   "outputs": [
    {
     "output_type": "stream",
     "name": "stdout",
     "output_type": "stream",
     "text": [
      "/databricks/driver\r\n"
     ]
    }
   ],
   "source": [
    "!pwd"
   ]
  },
  {
   "cell_type": "code",
   "execution_count": 0,
   "metadata": {
    "application/vnd.databricks.v1+cell": {
     "cellMetadata": {
      "byteLimit": 2048000,
      "rowLimit": 10000
     },
     "inputWidgets": {},
     "nuid": "74a6da43-c672-4373-93df-750a34548be3",
     "showTitle": false,
     "tableResultSettingsMap": {},
     "title": ""
    }
   },
   "outputs": [],
   "source": [
    "!mkdir /databricks/driver/checkpoints"
   ]
  },
  {
   "cell_type": "code",
   "execution_count": 0,
   "metadata": {
    "application/vnd.databricks.v1+cell": {
     "cellMetadata": {
      "byteLimit": 2048000,
      "rowLimit": 10000
     },
     "inputWidgets": {},
     "nuid": "ed09dd60-329c-42c3-ab94-09e179fe0bf0",
     "showTitle": false,
     "tableResultSettingsMap": {},
     "title": ""
    }
   },
   "outputs": [],
   "source": [
    "spark.sparkContext.setCheckpointDir('/databricks/driver/checkpoints')"
   ]
  },
  {
   "cell_type": "code",
   "execution_count": 0,
   "metadata": {
    "application/vnd.databricks.v1+cell": {
     "cellMetadata": {
      "byteLimit": 2048000,
      "rowLimit": 10000
     },
     "collapsed": true,
     "inputWidgets": {},
     "nuid": "f3ea511b-ff26-4ae0-8944-f8575e149ef2",
     "showTitle": false,
     "tableResultSettingsMap": {},
     "title": ""
    }
   },
   "outputs": [
    {
     "output_type": "stream",
     "name": "stdout",
     "output_type": "stream",
     "text": [
      "+-----+---------+\n|   id|component|\n+-----+---------+\n|40960|        0|\n|10240|        0|\n|51200|        0|\n|10241|        0|\n|20480|        0|\n|10242|        0|\n|51201|        0|\n|10243|        0|\n|30720|        0|\n|10244|        0|\n|51202|        0|\n|10245|        0|\n|20481|        0|\n|10246|        0|\n|51203|        0|\n|10247|        0|\n|    0|        0|\n|10248|        0|\n|51204|        0|\n|10249|        0|\n+-----+---------+\nonly showing top 20 rows\n\n"
     ]
    }
   ],
   "source": [
    "result = g.connectedComponents()\n"
   ]
  },
  {
   "cell_type": "code",
   "execution_count": 0,
   "metadata": {
    "application/vnd.databricks.v1+cell": {
     "cellMetadata": {
      "byteLimit": 2048000,
      "rowLimit": 10000
     },
     "inputWidgets": {},
     "nuid": "7dcf4eeb-182b-4bc6-9cbe-08dbdef15343",
     "showTitle": false,
     "tableResultSettingsMap": {},
     "title": ""
    }
   },
   "outputs": [
    {
     "output_type": "stream",
     "name": "stdout",
     "output_type": "stream",
     "text": [
      "+-----+---------+\n|   id|component|\n+-----+---------+\n|82168|    82168|\n|61440|        0|\n|    0|        0|\n|61441|        0|\n|10240|        0|\n+-----+---------+\nonly showing top 5 rows\n\n"
     ]
    }
   ],
   "source": [
    "result.select(\"id\", \"component\").orderBy(desc(\"component\")).show(5)"
   ]
  },
  {
   "cell_type": "code",
   "execution_count": 0,
   "metadata": {
    "application/vnd.databricks.v1+cell": {
     "cellMetadata": {
      "byteLimit": 2048000,
      "rowLimit": 10000
     },
     "inputWidgets": {},
     "nuid": "8e033f73-f732-4662-b21e-cbc89478ee87",
     "showTitle": false,
     "tableResultSettingsMap": {},
     "title": ""
    }
   },
   "outputs": [
    {
     "output_type": "stream",
     "name": "stdout",
     "output_type": "stream",
     "text": [
      "+----+-----+\n|  id|count|\n+----+-----+\n|  49|15666|\n| 195|12456|\n| 398|11590|\n|1723|11452|\n| 342|11191|\n+----+-----+\nonly showing top 5 rows\n\n"
     ]
    }
   ],
   "source": [
    "results = g.triangleCount()\n",
    "results.select(\"id\", \"count\").orderBy(desc(\"count\")).show(5)"
   ]
  }
 ],
 "metadata": {
  "application/vnd.databricks.v1+notebook": {
   "dashboards": [],
   "environmentMetadata": null,
   "language": "python",
   "notebookMetadata": {
    "pythonIndentUnit": 2
   },
   "notebookName": "HW3_Q2",
   "widgets": {}
  }
 },
 "nbformat": 4,
 "nbformat_minor": 0
}
